{
 "cells": [
  {
   "cell_type": "markdown",
   "metadata": {},
   "source": [
    "**对象大致意味着一系列数据（属性）以及一套访问和操作这些数据的方法。**\n",
    "\n",
    "**使用对象有下列好处**"
   ]
  },
  {
   "cell_type": "markdown",
   "metadata": {},
   "source": [
    "**- 多态**\n",
    "    可对不同类型的对象执行相同的操作。\n",
    "\n",
    "**- 封装**\n",
    "    对外部隐藏有关对象工作原理的细节。\n",
    "\n",
    "**- 继承**\n",
    "    可以基于通用类创建出专用类"
   ]
  }
 ],
 "metadata": {
  "kernelspec": {
   "display_name": "Python 3.9.13 ('gpu')",
   "language": "python",
   "name": "python3"
  },
  "language_info": {
   "name": "python",
   "version": "3.9.13"
  },
  "orig_nbformat": 4,
  "vscode": {
   "interpreter": {
    "hash": "21282cff81bde25532fd2a63c6ae6419dba3e1c17add1e3a4d23a97e8da91ae2"
   }
  }
 },
 "nbformat": 4,
 "nbformat_minor": 2
}
