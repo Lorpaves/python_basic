{
 "cells": [
  {
   "cell_type": "markdown",
   "metadata": {},
   "source": [
    "#### **什么是封装**"
   ]
  },
  {
   "cell_type": "markdown",
   "metadata": {},
   "source": [
    "封装(encapsulation)指的是向外部隐藏不必要地细节。这听起来有点像多态（无需直到对象的内部细节就可以使用它）。\n",
    "\n",
    "封装和多态两个概念很像，因为它们都是**抽象的原则**。它们都像函数一样，可以帮你处理程序的组成部分，让你无需关心不必要的细节，使得编程的时候思路更清晰"
   ]
  },
  {
   "cell_type": "markdown",
   "metadata": {},
   "source": [
    "下面是一个使用了多态但没有使用封装的例子。假如你有一个名为OpenObject的类。"
   ]
  },
  {
   "cell_type": "markdown",
   "metadata": {},
   "source": [
    "```python\n",
    ">>> obj = OpenObject()  #创建对象\n",
    ">>> o.set_name('Sir Lancelot')\n",
    ">>> o.get_name()\n",
    "'Sir Lancelot'\n",
    "\n",
    "看起来没任何问题。然而，如果OpenObject将其名称(name)储存在全局变量global_name中呢？\n",
    ">>> global_name\n",
    "'Sir Lancelot'\n",
    "\n",
    "这意味着使用OpenObject类的实例(创建的对象)时，你需要考虑global_name的内容，并确保无人能修改它\n",
    ">>> global_name = 'Sir Gumby'   #但是它能被修改\n",
    ">>> o.get_name()\n",
    "'Sir Gumby'\n",
    "\n",
    "如果尝试创建多个OpenObject对象，会出现问题，因为它们公用同一个变量\n",
    ">>> obj1 = OpenObject()\n",
    ">>> obj2 = OpenObject()\n",
    ">>> o1.set_name('Robin Hood')\n",
    ">>> o2.get_name()\n",
    "'Robin Hood'\n",
    "\n",
    "如何将名称(name)“封装”在对象中呢？只需将其设置为对象的一个属性即可\n",
    "属性是归属于对象的变量，就行方法一样。实际上，方法差不多就是与函数相关联的属性。如果你使用属性而非全局变量重新编写前面的OpenObject类，可以这样使用它\n",
    ">>> obj3 = OpenObject() #将name设置为OpenObject的属性\n",
    ">>> obj3.set_name('Sir Lancelot')\n",
    ">>> obj3.get_name()  \n",
    "'Sir Lancelot'\n",
    "\n",
    ">>> obj4 = OpenObject()\n",
    ">>> obj4.set_name('Sir Robin')\n",
    ">>> obj4.get_name()\n",
    "'Sir Robin'\n",
    ">>> obj3.get_name()\n",
    "'Sir Lancelot'\n",
    "\n",
    "obj3和obj4的名称现在不一样了。因为它们都有自己的状态。对象的状态由其属性描述。对象的方法可能修改这些属性，因此对象将一系列函数组合起来，并赋予它们访问一些属性的权限，而属性可以用于在两次函数调用之间的储存值（即参数的传递）。\n",
    "```"
   ]
  }
 ],
 "metadata": {
  "kernelspec": {
   "display_name": "Python 3.9.13 ('gpu')",
   "language": "python",
   "name": "python3"
  },
  "language_info": {
   "name": "python",
   "version": "3.9.13"
  },
  "orig_nbformat": 4,
  "vscode": {
   "interpreter": {
    "hash": "21282cff81bde25532fd2a63c6ae6419dba3e1c17add1e3a4d23a97e8da91ae2"
   }
  }
 },
 "nbformat": 4,
 "nbformat_minor": 2
}
