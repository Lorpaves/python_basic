{
 "cells": [
  {
   "cell_type": "markdown",
   "metadata": {},
   "source": [
    "#### **什么是多态**"
   ]
  },
  {
   "cell_type": "markdown",
   "metadata": {},
   "source": [
    "多态(polymorphism)源自希腊语，意思是“有多种形态”。"
   ]
  },
  {
   "cell_type": "markdown",
   "metadata": {},
   "source": [
    "“有多种形态”意味着即便你不知道变量指向的是哪种对象，也能够对其执行操作，且操作的行为将随对象所属的类型（所属的类）而不一样。"
   ]
  },
  {
   "cell_type": "markdown",
   "metadata": {},
   "source": [
    "```python\n",
    "假如用一个元组来表示一个商品的信息('clothes', 2.50)，但是该购物网站新增拍卖服务，需要不断改变商品的价格，直到有消费者购买。\n",
    "\n",
    "在这种情况下，如果能允许用户将商品放入购物车并进入结算页面（你所开发系统的一部分），等到价格合适时再点击“支付”按钮。\n",
    "\n",
    "然而使用简单的元组表示商品信息无法做到上面所说的。要做到的化，表示商品的对象必须在你编写的代码询问价格时通过网络检查其当前价格，\n",
    "也就是说不能像元组中那样固定价格（元组不可变）。\n",
    "\n",
    "要解决这个问题，可以创建以下函数：\n",
    "def get_price(object):\n",
    "    if isinstance(object, tuple):   #isinstance()检查object是否是个元组，如果是，返回其第二个元素（价格）\n",
    "        return object[1]\n",
    "    else:   \n",
    "        return magic_network_method(object)     #否则调用一个神奇的网络方法\n",
    "\n",
    "但是这种方法不太灵活，如果用十六进制的字符串表示价格，并将其储存到字典的'price'键下，则可以改变一下上面的函数\n",
    "def get_price(object):\n",
    "    if isinstance(object, tuple):\n",
    "        return object[1]\n",
    "    elif isinstance(object, dict):\n",
    "        return int(object['price'])\n",
    "    else:\n",
    "        return magic_network_method(object)\n",
    "```"
   ]
  },
  {
   "cell_type": "markdown",
   "metadata": {},
   "source": [
    "#### **1. 多态和方法**"
   ]
  },
  {
   "cell_type": "markdown",
   "metadata": {},
   "source": [
    "```python\n",
    ">>>object.get_price()\n",
    "2.5\n",
    "```\n",
    "\n",
    "像这样与对象属性相关联的函数称为方法。前面也介绍过很多这样的函数：字符串、列表、字典的方法，它们和多态本质上一样"
   ]
  },
  {
   "cell_type": "code",
   "execution_count": 2,
   "metadata": {},
   "outputs": [],
   "source": [
    "from random import choice\n",
    "x = choice([['Hello, Wolrd!'], [1, 2, 'e', 'e', 4]])"
   ]
  },
  {
   "cell_type": "code",
   "execution_count": 3,
   "metadata": {},
   "outputs": [
    {
     "data": {
      "text/plain": [
       "0"
      ]
     },
     "execution_count": 3,
     "metadata": {},
     "output_type": "execute_result"
    }
   ],
   "source": [
    "x.count('e')"
   ]
  },
  {
   "cell_type": "markdown",
   "metadata": {},
   "source": [
    "从上述结果来看，x包含的是列表。关键在于你无须执行相关的检查，只需要调用python的count()函数就能够得到字符串'e'再x列表中出现的次数。\n",
    "\n",
    "这种叫抽象：将细节隐藏，我们只需要知道输入和输出的结果。"
   ]
  },
  {
   "cell_type": "markdown",
   "metadata": {},
   "source": [
    "**其实，我们通过内置运算符和内置函数频繁地使用了多态**"
   ]
  },
  {
   "cell_type": "code",
   "execution_count": 4,
   "metadata": {},
   "outputs": [
    {
     "data": {
      "text/plain": [
       "3"
      ]
     },
     "execution_count": 4,
     "metadata": {},
     "output_type": "execute_result"
    }
   ],
   "source": [
    "1 + 2"
   ]
  },
  {
   "cell_type": "code",
   "execution_count": 5,
   "metadata": {},
   "outputs": [
    {
     "data": {
      "text/plain": [
       "'Fishlicense'"
      ]
     },
     "execution_count": 5,
     "metadata": {},
     "output_type": "execute_result"
    }
   ],
   "source": [
    "'Fish' + 'license'"
   ]
  },
  {
   "cell_type": "code",
   "execution_count": 6,
   "metadata": {},
   "outputs": [],
   "source": [
    "def add(x, y):\n",
    "    return x + y"
   ]
  },
  {
   "cell_type": "code",
   "execution_count": 7,
   "metadata": {},
   "outputs": [
    {
     "data": {
      "text/plain": [
       "3"
      ]
     },
     "execution_count": 7,
     "metadata": {},
     "output_type": "execute_result"
    }
   ],
   "source": [
    "add(1, 2)"
   ]
  },
  {
   "cell_type": "code",
   "execution_count": 8,
   "metadata": {},
   "outputs": [
    {
     "data": {
      "text/plain": [
       "'Fishlicense'"
      ]
     },
     "execution_count": 8,
     "metadata": {},
     "output_type": "execute_result"
    }
   ],
   "source": [
    "add('Fish', 'license')"
   ]
  },
  {
   "cell_type": "markdown",
   "metadata": {},
   "source": [
    "**add()函数中的参数可以设置为int类型，char类型，序列等...这就是多态**"
   ]
  },
  {
   "cell_type": "code",
   "execution_count": 9,
   "metadata": {},
   "outputs": [],
   "source": [
    "def get_length(x):\n",
    "    print('The length of', repr(x), 'is', len(x))"
   ]
  },
  {
   "cell_type": "code",
   "execution_count": 10,
   "metadata": {},
   "outputs": [
    {
     "name": "stdout",
     "output_type": "stream",
     "text": [
      "The length of 'Hello' is 5\n"
     ]
    }
   ],
   "source": [
    "get_length('Hello')"
   ]
  },
  {
   "cell_type": "markdown",
   "metadata": {},
   "source": [
    "```python\n",
    "上面的函数使用了repr()，它是多态的集大成者之一，可用于任何对象。\n",
    "\n",
    "Python中很多函数和运算符都是多态的（可以对不同类型的对象执行相同的操作）。\n",
    "\n",
    "如果要破坏多态，唯一的办法是使用诸如type()（检查对象的类型）、issubclass()等函数显式地进行类型检查。\n",
    "```"
   ]
  }
 ],
 "metadata": {
  "kernelspec": {
   "display_name": "Python 3.9.13 ('gpu')",
   "language": "python",
   "name": "python3"
  },
  "language_info": {
   "codemirror_mode": {
    "name": "ipython",
    "version": 3
   },
   "file_extension": ".py",
   "mimetype": "text/x-python",
   "name": "python",
   "nbconvert_exporter": "python",
   "pygments_lexer": "ipython3",
   "version": "3.9.13"
  },
  "orig_nbformat": 4,
  "vscode": {
   "interpreter": {
    "hash": "21282cff81bde25532fd2a63c6ae6419dba3e1c17add1e3a4d23a97e8da91ae2"
   }
  }
 },
 "nbformat": 4,
 "nbformat_minor": 2
}
