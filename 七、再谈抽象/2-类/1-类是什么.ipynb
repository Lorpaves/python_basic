{
 "cells": [
  {
   "cell_type": "markdown",
   "metadata": {},
   "source": [
    "#### **类到底是什么**"
   ]
  },
  {
   "cell_type": "markdown",
   "metadata": {},
   "source": [
    "**类是一种对象**。每个对象都**属于**特定的类，并被称为该类的实例。"
   ]
  },
  {
   "cell_type": "markdown",
   "metadata": {},
   "source": [
    "假如你在窗外看到一只鸟，这只鸟就是“鸟类”的一个实例。鸟类是一个非常通用（抽象）的类，它有多个子类：\n",
    "\n",
    "你看到的那只鸟可能属于子类“云雀”。“云雀”是“鸟”类的一个子集。一个类的对象为另一个类的对象的子集时，前者是后者的子类。因此“云雀”为“鸟”类的子类。而“鸟”类云“云雀”的**超类**。"
   ]
  },
  {
   "cell_type": "markdown",
   "metadata": {},
   "source": [
    "<span style=\"color:red\">*note:*</span>  在英语中，使用复数表示类，如birds表示鸟类，larks表示云雀。在Python中，约定使用单数并将首字母大写表示类，如Bird，Lark"
   ]
  },
  {
   "cell_type": "markdown",
   "metadata": {},
   "source": [
    "因此Python中子类的所有实例都有超类的所有方法（有点像子集的每个元素都包含在其父集中）。因此要定义子类，只需要定义多出来的方法（还可能重新定义一些既有的方法）。"
   ]
  },
  {
   "cell_type": "markdown",
   "metadata": {},
   "source": [
    "比如企鹅不能飞，因此在Penguin的实例中，方法fly重新定义为应该什么都不做"
   ]
  }
 ],
 "metadata": {
  "kernelspec": {
   "display_name": "Python 3.9.13 ('gpu')",
   "language": "python",
   "name": "python3"
  },
  "language_info": {
   "name": "python",
   "version": "3.9.13"
  },
  "orig_nbformat": 4,
  "vscode": {
   "interpreter": {
    "hash": "21282cff81bde25532fd2a63c6ae6419dba3e1c17add1e3a4d23a97e8da91ae2"
   }
  }
 },
 "nbformat": 4,
 "nbformat_minor": 2
}
