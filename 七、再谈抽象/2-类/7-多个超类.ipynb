{
 "cells": [
  {
   "cell_type": "code",
   "execution_count": 1,
   "metadata": {},
   "outputs": [],
   "source": [
    "class Calculator:\n",
    "    def calculator(self, expression):\n",
    "        self.value = eval(expression)\n",
    "\n",
    "class Talker:\n",
    "    def talk(self):\n",
    "        print('Hi, my value is', self.value)\n",
    "\n",
    "class TalkingCalculator(Calculator,Talker):\n",
    "    pass"
   ]
  },
  {
   "cell_type": "code",
   "execution_count": 2,
   "metadata": {},
   "outputs": [],
   "source": [
    "tc = TalkingCalculator()\n",
    "tc.calculator('1 + 2 * 10')"
   ]
  },
  {
   "cell_type": "code",
   "execution_count": 3,
   "metadata": {},
   "outputs": [
    {
     "data": {
      "text/plain": [
       "21"
      ]
     },
     "execution_count": 3,
     "metadata": {},
     "output_type": "execute_result"
    }
   ],
   "source": [
    "tc.value"
   ]
  },
  {
   "cell_type": "code",
   "execution_count": 4,
   "metadata": {},
   "outputs": [
    {
     "name": "stdout",
     "output_type": "stream",
     "text": [
      "Hi, my value is 21\n"
     ]
    }
   ],
   "source": [
    "tc.talk()"
   ]
  },
  {
   "cell_type": "markdown",
   "metadata": {},
   "source": [
    "**上面TalkingCalculator类的继承称为多重继承，多重继承是一个强大的工具。**\n",
    "\n",
    "**然而，除非万不得已使用，我们应该避免使用多重继承。**\n",
    "\n",
    "因为多个超类以不同的方式（它们都有各自的属性和方法）实现了同一个方法（即有多个同名方法），必须在class语句中小心排列要继承的超类，因为位于前面的超类的方法会覆盖位于后面的超类的方法。\n",
    "\n",
    "如果Calculator类的方法包含Talk类的talk，那么Calculator类的talk将覆盖掉Talk类的talk（导致子类无法使用超类Talk的talk方法）。"
   ]
  },
  {
   "cell_type": "markdown",
   "metadata": {},
   "source": [
    "**查找特定方法或属性时访问超类的顺序称为方法<u>解析顺序</u>**"
   ]
  }
 ],
 "metadata": {
  "kernelspec": {
   "display_name": "Python 3.9.13 ('gpu')",
   "language": "python",
   "name": "python3"
  },
  "language_info": {
   "codemirror_mode": {
    "name": "ipython",
    "version": 3
   },
   "file_extension": ".py",
   "mimetype": "text/x-python",
   "name": "python",
   "nbconvert_exporter": "python",
   "pygments_lexer": "ipython3",
   "version": "3.9.13"
  },
  "orig_nbformat": 4,
  "vscode": {
   "interpreter": {
    "hash": "21282cff81bde25532fd2a63c6ae6419dba3e1c17add1e3a4d23a97e8da91ae2"
   }
  }
 },
 "nbformat": 4,
 "nbformat_minor": 2
}
