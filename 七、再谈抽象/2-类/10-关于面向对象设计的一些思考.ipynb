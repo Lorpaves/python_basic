{
 "cells": [
  {
   "cell_type": "markdown",
   "metadata": {},
   "source": [
    "#### **一、 类创建的一些指南**"
   ]
  },
  {
   "cell_type": "markdown",
   "metadata": {},
   "source": [
    "- **将相关的东西放在一起。**"
   ]
  },
  {
   "cell_type": "markdown",
   "metadata": {},
   "source": [
    "如果一个函数操作一个全局变量，最好将它们作为一个类的属性和方法"
   ]
  },
  {
   "cell_type": "markdown",
   "metadata": {},
   "source": [
    "- **不要让对象之间过于亲密。**"
   ]
  },
  {
   "cell_type": "markdown",
   "metadata": {},
   "source": [
    "方法应该只关心其所属实例的属性，最好不要影响其他实例的状态"
   ]
  },
  {
   "cell_type": "markdown",
   "metadata": {},
   "source": [
    "- **慎用继承，尤其是多重继承。**"
   ]
  },
  {
   "cell_type": "markdown",
   "metadata": {},
   "source": [
    "继承有时很有用，但在有些情况下可能带来不必要的复杂性。要正确的使用多重继承很难，要排除其中的bug更难。"
   ]
  },
  {
   "cell_type": "markdown",
   "metadata": {},
   "source": [
    "- **保持简单**"
   ]
  },
  {
   "cell_type": "markdown",
   "metadata": {},
   "source": [
    "让方法短小紧凑。一般而言，应确保大多数方法都能在30秒内读完并且理解。对于其余的方法，尽可能将其篇幅控制在一页或一屏内"
   ]
  },
  {
   "cell_type": "markdown",
   "metadata": {},
   "source": [
    "#### **二、 确定哪些类以及这些类需要包含哪些属性和方法，尝试做下面几条**"
   ]
  },
  {
   "cell_type": "markdown",
   "metadata": {},
   "source": [
    "##### **1. 将有关的问题的描述记录下，并给所有的名词、动词和形容词做上标记。**"
   ]
  },
  {
   "cell_type": "markdown",
   "metadata": {},
   "source": [
    "##### **2. 在名词中找出可能的类**"
   ]
  },
  {
   "cell_type": "markdown",
   "metadata": {},
   "source": [
    "##### **3. 在动词中找出可能的方法**"
   ]
  },
  {
   "cell_type": "markdown",
   "metadata": {},
   "source": [
    "##### **4. 在形容词中找出可能的属性**"
   ]
  },
  {
   "cell_type": "markdown",
   "metadata": {},
   "source": [
    "##### **5. 将找出的方法和属性分配给类**"
   ]
  },
  {
   "cell_type": "markdown",
   "metadata": {},
   "source": [
    "#### **三、 有了<span style=\"color:red\">面向对象模型</span>的草图后，还需要考虑类和对象（实例）之间的关系（如继承或写作）以及它们的职责，为进一步优化模型，可以做以下事情：**"
   ]
  },
  {
   "cell_type": "markdown",
   "metadata": {},
   "source": [
    "##### **1. 记录（或想象）一系列的用例，及使用程序的场景，并确保这些用例涵盖了所有的功能**"
   ]
  },
  {
   "cell_type": "markdown",
   "metadata": {},
   "source": [
    "##### **2. 透彻且仔细地考虑每个场景，确保模型包含了所需地一切。如果有遗漏，就增加；如果有不太对劲的地方，就修改。不断重复这个过程，知道你对模型满意为止。**"
   ]
  }
 ],
 "metadata": {
  "kernelspec": {
   "display_name": "Python 3.9.13 ('gpu')",
   "language": "python",
   "name": "python3"
  },
  "language_info": {
   "name": "python",
   "version": "3.9.13"
  },
  "orig_nbformat": 4,
  "vscode": {
   "interpreter": {
    "hash": "21282cff81bde25532fd2a63c6ae6419dba3e1c17add1e3a4d23a97e8da91ae2"
   }
  }
 },
 "nbformat": 4,
 "nbformat_minor": 2
}
