{
 "cells": [
  {
   "cell_type": "code",
   "execution_count": 1,
   "metadata": {},
   "outputs": [],
   "source": [
    "class Secretive:\n",
    "    def __inaccesible(self):\n",
    "        print('You cant see me ...')\n",
    "    \n",
    "    def accesiible(self):\n",
    "        print('The secret message is:')\n",
    "        self.__inaccesible()"
   ]
  },
  {
   "cell_type": "markdown",
   "metadata": {},
   "source": [
    "现在从外部不能访问__inaccesible，但在类中（accessible中）依然可以访问"
   ]
  },
  {
   "cell_type": "code",
   "execution_count": 2,
   "metadata": {},
   "outputs": [],
   "source": [
    "s = Secretive()"
   ]
  },
  {
   "cell_type": "code",
   "execution_count": 3,
   "metadata": {},
   "outputs": [
    {
     "ename": "AttributeError",
     "evalue": "'Secretive' object has no attribute '__inaccesible'",
     "output_type": "error",
     "traceback": [
      "\u001b[1;31m---------------------------------------------------------------------------\u001b[0m",
      "\u001b[1;31mAttributeError\u001b[0m                            Traceback (most recent call last)",
      "Cell \u001b[1;32mIn [3], line 1\u001b[0m\n\u001b[1;32m----> 1\u001b[0m s\u001b[39m.\u001b[39m__inaccesible()\n",
      "\u001b[1;31mAttributeError\u001b[0m: 'Secretive' object has no attribute '__inaccesible'"
     ]
    }
   ],
   "source": [
    "s.__inaccesible()"
   ]
  },
  {
   "cell_type": "code",
   "execution_count": 4,
   "metadata": {},
   "outputs": [
    {
     "name": "stdout",
     "output_type": "stream",
     "text": [
      "The secret message is:\n",
      "You cant see me ...\n"
     ]
    }
   ],
   "source": [
    "s.accesiible()"
   ]
  },
  {
   "cell_type": "code",
   "execution_count": 5,
   "metadata": {},
   "outputs": [
    {
     "data": {
      "text/plain": [
       "<function __main__.Secretive.__inaccesible(self)>"
      ]
     },
     "execution_count": 5,
     "metadata": {},
     "output_type": "execute_result"
    }
   ],
   "source": [
    "Secretive._Secretive__inaccesible"
   ]
  },
  {
   "cell_type": "code",
   "execution_count": 11,
   "metadata": {},
   "outputs": [
    {
     "name": "stdout",
     "output_type": "stream",
     "text": [
      "You cant see me ...\n"
     ]
    }
   ],
   "source": [
    "s._Secretive__inaccesible()"
   ]
  },
  {
   "cell_type": "markdown",
   "metadata": {},
   "source": [
    "Python将类中下划线打头的方法的名称作了修改，其目的在于发出强烈的信号，让别人禁止访问对象的私有方法和私有属性。\n",
    "\n",
    "如果不希望类中的名称(self.name)被修改，又想发出不要从外部修改属性或方法的信号，可以用一个下划线来定义。\n",
    "\n",
    "如from module import * 不会导入以一个下划线“_”打头的名称"
   ]
  }
 ],
 "metadata": {
  "kernelspec": {
   "display_name": "Python 3.9.13 ('gpu')",
   "language": "python",
   "name": "python3"
  },
  "language_info": {
   "codemirror_mode": {
    "name": "ipython",
    "version": 3
   },
   "file_extension": ".py",
   "mimetype": "text/x-python",
   "name": "python",
   "nbconvert_exporter": "python",
   "pygments_lexer": "ipython3",
   "version": "3.9.13"
  },
  "orig_nbformat": 4,
  "vscode": {
   "interpreter": {
    "hash": "21282cff81bde25532fd2a63c6ae6419dba3e1c17add1e3a4d23a97e8da91ae2"
   }
  }
 },
 "nbformat": 4,
 "nbformat_minor": 2
}
