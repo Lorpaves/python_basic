{
 "cells": [
  {
   "cell_type": "markdown",
   "metadata": {},
   "source": [
    "**self的关联性**"
   ]
  },
  {
   "cell_type": "code",
   "execution_count": 1,
   "metadata": {},
   "outputs": [],
   "source": [
    "class Class:\n",
    "    def method(self):\n",
    "        print('I have a self!')\n",
    "\n",
    "def function():\n",
    "    print('I don\\'t ...')"
   ]
  },
  {
   "cell_type": "code",
   "execution_count": 2,
   "metadata": {},
   "outputs": [
    {
     "name": "stdout",
     "output_type": "stream",
     "text": [
      "I have a self!\n",
      "I don't ...\n"
     ]
    }
   ],
   "source": [
    "instance = Class()\n",
    "instance.method()\n",
    "instance.method = function\n",
    "instance.method()"
   ]
  },
  {
   "cell_type": "markdown",
   "metadata": {},
   "source": [
    "实际上，完全可以让类外的函数或变量指向类的函数或变量"
   ]
  },
  {
   "cell_type": "code",
   "execution_count": 3,
   "metadata": {},
   "outputs": [],
   "source": [
    "#创建类\n",
    "class Bird:\n",
    "    song = 'Squaawk!'\n",
    "    def sing(self):\n",
    "        print(self.song)"
   ]
  },
  {
   "cell_type": "code",
   "execution_count": 4,
   "metadata": {},
   "outputs": [
    {
     "name": "stdout",
     "output_type": "stream",
     "text": [
      "Squaawk!\n"
     ]
    }
   ],
   "source": [
    "bird = Bird()   #创建实例\n",
    "bird.sing()"
   ]
  },
  {
   "cell_type": "code",
   "execution_count": 5,
   "metadata": {},
   "outputs": [
    {
     "name": "stdout",
     "output_type": "stream",
     "text": [
      "Squaawk!\n"
     ]
    }
   ],
   "source": [
    "birdsong = bird.sing\n",
    "birdsong()"
   ]
  },
  {
   "cell_type": "markdown",
   "metadata": {},
   "source": [
    "birdsong()也可以访问Bird类的参数self，即它也被关联到类的实例"
   ]
  }
 ],
 "metadata": {
  "kernelspec": {
   "display_name": "Python 3.9.13 ('gpu')",
   "language": "python",
   "name": "python3"
  },
  "language_info": {
   "codemirror_mode": {
    "name": "ipython",
    "version": 3
   },
   "file_extension": ".py",
   "mimetype": "text/x-python",
   "name": "python",
   "nbconvert_exporter": "python",
   "pygments_lexer": "ipython3",
   "version": "3.9.13"
  },
  "orig_nbformat": 4,
  "vscode": {
   "interpreter": {
    "hash": "21282cff81bde25532fd2a63c6ae6419dba3e1c17add1e3a4d23a97e8da91ae2"
   }
  }
 },
 "nbformat": 4,
 "nbformat_minor": 2
}
