{
 "cells": [
  {
   "cell_type": "markdown",
   "metadata": {},
   "source": [
    "#### **对象**"
   ]
  },
  {
   "cell_type": "markdown",
   "metadata": {},
   "source": [
    "对象由属性和方法组成。属性是属于对象的变量，方法是储存在对象属性中的函数。\n",
    "\n",
    "相比于其他函数，对象的方法有一个不同之处，它总是将其所属的对象(self)作为第一个参数。"
   ]
  },
  {
   "cell_type": "markdown",
   "metadata": {},
   "source": [
    "#### **类**"
   ]
  },
  {
   "cell_type": "markdown",
   "metadata": {},
   "source": [
    "类表示一组（或一类）对象，而每个对象都属于特定的类。类的主要任务是定义其实例将运用到的方法"
   ]
  },
  {
   "cell_type": "markdown",
   "metadata": {},
   "source": [
    "#### **多态**"
   ]
  },
  {
   "cell_type": "markdown",
   "metadata": {},
   "source": [
    "多态指的是能够同样地对待不同类型和类的对象，即无需知道对象属于哪个类就可以调用多态（某个方法）"
   ]
  },
  {
   "cell_type": "markdown",
   "metadata": {},
   "source": [
    "#### **封装**"
   ]
  },
  {
   "cell_type": "markdown",
   "metadata": {},
   "source": [
    "对象可以选择隐藏（封装）其内部状态。在有些语言中，封装意味着对象的状态（属性）只能通过其方法来访问。在Python中，所有的属性都是公有的，但直接访问对象的状态是应谨慎行事，因为一旦修改了对象的属性，某些相关联的方法随之会受到影响。"
   ]
  },
  {
   "cell_type": "markdown",
   "metadata": {},
   "source": [
    "#### **继承**"
   ]
  },
  {
   "cell_type": "markdown",
   "metadata": {},
   "source": [
    "一个类可以是一个或多个类的子类，在这种情况下，子类将继承超类的所有方法。一个类可以指定多个超类，通过继承多个超类可以组合独立且不相关的功能。常见的一种做法是使用一个核心超类（具有主要的方法）以及一个或多个混合超类。"
   ]
  },
  {
   "cell_type": "markdown",
   "metadata": {},
   "source": [
    "#### **接口和内省**"
   ]
  },
  {
   "cell_type": "markdown",
   "metadata": {},
   "source": [
    "一般而言，你无需过于深入研究对象，而只依赖于多态来调用所需要使用的方法。如果要确定对象包含哪些方法或属性，有些函数可以供我们来获取。"
   ]
  },
  {
   "cell_type": "markdown",
   "metadata": {},
   "source": [
    "#### **抽象基类**"
   ]
  },
  {
   "cell_type": "markdown",
   "metadata": {},
   "source": [
    "使用模块abc可以创建抽象基类。抽象基类用于指定子类必须提供哪些功能，却不能实现这些功能"
   ]
  }
 ],
 "metadata": {
  "kernelspec": {
   "display_name": "Python 3.9.13 ('gpu')",
   "language": "python",
   "name": "python3"
  },
  "language_info": {
   "name": "python",
   "version": "3.9.13"
  },
  "orig_nbformat": 4,
  "vscode": {
   "interpreter": {
    "hash": "21282cff81bde25532fd2a63c6ae6419dba3e1c17add1e3a4d23a97e8da91ae2"
   }
  }
 },
 "nbformat": 4,
 "nbformat_minor": 2
}
