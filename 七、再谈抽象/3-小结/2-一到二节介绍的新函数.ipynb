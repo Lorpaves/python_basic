{
 "cells": [
  {
   "cell_type": "markdown",
   "metadata": {},
   "source": [
    "```python\n",
    "callable(object)    判断对象object是否可以调用（比如是否是函数或方法）\n",
    "\n",
    "getattr(object, name[, default])    获取对象object属性name的值\n",
    "\n",
    "hasattr(object, name)   确定对象object是否有指定的属性\n",
    "\n",
    "isinstance(object, class)   确定对象object是否是类class的实例\n",
    "\n",
    "issubclass(A, B)    确定类A是否是类B的子类\n",
    "\n",
    "random.choice(sequence)     从一个非空序列sequence中随机选择一个元素\n",
    "\n",
    "setattr(object, name, value)    将对象object的指定name属性设置为指定的值value\n",
    "\n",
    "type(object)    返回对象的类型\n",
    "```"
   ]
  }
 ],
 "metadata": {
  "kernelspec": {
   "display_name": "Python 3.9.13 ('gpu')",
   "language": "python",
   "name": "python3"
  },
  "language_info": {
   "name": "python",
   "version": "3.9.13"
  },
  "orig_nbformat": 4,
  "vscode": {
   "interpreter": {
    "hash": "21282cff81bde25532fd2a63c6ae6419dba3e1c17add1e3a4d23a97e8da91ae2"
   }
  }
 },
 "nbformat": 4,
 "nbformat_minor": 2
}
