{
 "cells": [
  {
   "cell_type": "markdown",
   "metadata": {},
   "source": [
    "```python\n",
    "\n",
    "contine没有break用的多，continue结束当前迭代，跳到下一次迭代的开头，不像break，结束当前循环\n",
    "\n",
    "```"
   ]
  },
  {
   "cell_type": "markdown",
   "metadata": {},
   "source": [
    "```python\n",
    "for x in sequence:\n",
    "    if condition1: continue\n",
    "    if condition2: continue\n",
    "    if condition3: continue\n",
    "\n",
    "    do_something()\n",
    "    do_something_else()\n",
    "    do_another_thing()\n",
    "    ···\n",
    "    ect()\n",
    "```"
   ]
  },
  {
   "cell_type": "markdown",
   "metadata": {},
   "source": [
    "很多情况下，用一条if语句就行"
   ]
  },
  {
   "cell_type": "markdown",
   "metadata": {},
   "source": [
    "```python\n",
    "    for x in sequence:\n",
    "        if not(condition1 or condition2 or condition3):\n",
    "            do_something()\n",
    "            do_something_else()\n",
    "            do_another_thing()\n",
    "            ···\n",
    "            ect()\n",
    "```"
   ]
  }
 ],
 "metadata": {
  "kernelspec": {
   "display_name": "Python 3.9.13 ('gpu')",
   "language": "python",
   "name": "python3"
  },
  "language_info": {
   "name": "python",
   "version": "3.9.13"
  },
  "orig_nbformat": 4,
  "vscode": {
   "interpreter": {
    "hash": "21282cff81bde25532fd2a63c6ae6419dba3e1c17add1e3a4d23a97e8da91ae2"
   }
  }
 },
 "nbformat": 4,
 "nbformat_minor": 2
}
