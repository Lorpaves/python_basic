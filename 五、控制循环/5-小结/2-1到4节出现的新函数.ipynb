{
 "cells": [
  {
   "cell_type": "markdown",
   "metadata": {},
   "source": [
    "```python\n",
    "char(n) ==> 返回一个字符串，n是这个字符串在码表中对应的数字(0 =< n <= 255)\n",
    "\n",
    "eval(source[,globals[,locals]]) ==> 计算并返回字符串source表示的表达式的结果\n",
    "\n",
    "exec(source[,globals[,locals]]) ==> 将字符串source作为python代码语句执行\n",
    "\n",
    "enumerate(sequence) ==> 生成一个tuple (index, sequence[index])，可以用来迭代\n",
    "\n",
    "ord(c) ==> c为一个只包含一个字符的字符串，返回码表中c对应的数值n\n",
    "\n",
    "range([start,] stop [,step])  ==> 创建一个由整数组成的列表\n",
    "\n",
    "reversed(sequence)  ==> 返回sequence的倒序序列\n",
    "\n",
    "sorted(sequence[,cmp][,key][,reverse])  ==> 返回排序后的列表\n",
    "\n",
    "zip(sequence1, sequence2, ...) ==> 返回一个sequence1, sequence2...组合起来的新序列\n",
    "```"
   ]
  }
 ],
 "metadata": {
  "kernelspec": {
   "display_name": "Python 3.9.13 ('gpu')",
   "language": "python",
   "name": "python3"
  },
  "language_info": {
   "name": "python",
   "version": "3.9.13"
  },
  "orig_nbformat": 4,
  "vscode": {
   "interpreter": {
    "hash": "21282cff81bde25532fd2a63c6ae6419dba3e1c17add1e3a4d23a97e8da91ae2"
   }
  }
 },
 "nbformat": 4,
 "nbformat_minor": 2
}
