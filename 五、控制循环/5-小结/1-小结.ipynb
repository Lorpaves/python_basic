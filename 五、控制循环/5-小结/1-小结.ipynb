{
 "cells": [
  {
   "cell_type": "markdown",
   "metadata": {},
   "source": [
    "#### **1. 打印语句**"
   ]
  },
  {
   "cell_type": "markdown",
   "metadata": {},
   "source": [
    "```python\n",
    "print()可以直接将不同的变量打印出来，这些变量需要用逗号分开，python会以逗号为分割，用空格将变量连接起成一整个语句打印出来\n",
    "```"
   ]
  },
  {
   "cell_type": "markdown",
   "metadata": {},
   "source": [
    "#### **2. 导入语句**"
   ]
  },
  {
   "cell_type": "markdown",
   "metadata": {},
   "source": [
    "```python\n",
    "import some_module as your_preferred_name 可以将some_module模块的名字改为your_preferred_name\n",
    "```"
   ]
  },
  {
   "cell_type": "markdown",
   "metadata": {},
   "source": [
    "#### **3. 赋值语句**"
   ]
  },
  {
   "cell_type": "markdown",
   "metadata": {},
   "source": [
    "```python\n",
    "first_param, *middle_param, last_param = [1, 2, 3, 4, 5, 6, 7]\n",
    "将1赋给first_param，7赋给last_param，中间的[2,3,4,5,6]赋给middle_param\n",
    "```"
   ]
  },
  {
   "cell_type": "markdown",
   "metadata": {},
   "source": [
    "#### **4. 代码块**"
   ]
  },
  {
   "cell_type": "markdown",
   "metadata": {},
   "source": [
    "```python\n",
    "相同缩进量的代码称为一个代码块，代码块可用于条件语句和循环语句中。\n",
    "后面介绍的函数(function())和类(class())也能包含代码块\n",
    "```"
   ]
  },
  {
   "cell_type": "markdown",
   "metadata": {},
   "source": [
    "#### **5. 条件语句**"
   ]
  },
  {
   "cell_type": "markdown",
   "metadata": {},
   "source": [
    "```python\n",
    "条件语句根据条件是否成立而执行其包含的代码块。\n",
    "可以使用if/elif/else的组合来判断复杂的条件\n",
    "也可以用 number = a if b else c来 定义 number 的值\n",
    "```"
   ]
  },
  {
   "cell_type": "markdown",
   "metadata": {},
   "source": [
    "#### **6. 循环**"
   ]
  },
  {
   "cell_type": "markdown",
   "metadata": {},
   "source": [
    "```python\n",
    "可以对序列中的元素逐一循环（迭代）执行循环代码块。\n",
    "```"
   ]
  },
  {
   "cell_type": "markdown",
   "metadata": {},
   "source": [
    "#### **7. 循环的可控制(break/continue)**"
   ]
  },
  {
   "cell_type": "markdown",
   "metadata": {},
   "source": [
    "```python\n",
    "可以通过某个条件判断循环是否继续或改变循环状态。\n",
    "break可以中断循环\n",
    "continue则从头开始进行下一次的循环\n",
    "可以将else作为在循环代码块的下一个代码块，如果循环代码块中break没有执行，则会执行else代码块，反之else不会执行\n",
    "```"
   ]
  },
  {
   "cell_type": "markdown",
   "metadata": {},
   "source": [
    "#### **8. 推导**"
   ]
  },
  {
   "cell_type": "markdown",
   "metadata": {},
   "source": [
    "```python\n",
    "推导不是语句，而是表达式。他们看起来很像循环，但不是循环。\n",
    "通过列表推导可以创建出新的列表\n",
    "```"
   ]
  },
  {
   "cell_type": "markdown",
   "metadata": {},
   "source": [
    "#### **9. pass、del、exec、eval**"
   ]
  },
  {
   "cell_type": "markdown",
   "metadata": {},
   "source": [
    "```python\n",
    "pass ==> 什么都不做，适合用作占位符\n",
    "del something ==> 用于删除变量或数据结构的元素，但不能用于删除值\n",
    "exec('do something')  ==> 将''中的语句翻译为代码执行\n",
    "eval('do something')  ==> 将''中的语句翻译为代码并执行且返回结果\n",
    "```"
   ]
  }
 ],
 "metadata": {
  "kernelspec": {
   "display_name": "Python 3.9.13 ('gpu')",
   "language": "python",
   "name": "python3"
  },
  "language_info": {
   "name": "python",
   "version": "3.9.13"
  },
  "orig_nbformat": 4,
  "vscode": {
   "interpreter": {
    "hash": "21282cff81bde25532fd2a63c6ae6419dba3e1c17add1e3a4d23a97e8da91ae2"
   }
  }
 },
 "nbformat": 4,
 "nbformat_minor": 2
}
