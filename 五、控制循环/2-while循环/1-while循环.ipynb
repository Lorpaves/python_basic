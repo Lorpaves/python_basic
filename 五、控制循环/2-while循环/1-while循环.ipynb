{
 "cells": [
  {
   "cell_type": "markdown",
   "metadata": {},
   "source": [
    "```python\n",
    "send mail()\n",
    "wait one month then send mail()\n",
    "wait one month then send mail()\n",
    "wait one month then send mail()\n",
    "(··· and so on)\n",
    "```\n",
    "\n",
    "上面代码太繁琐，可以用while循环，简单的三行能替代上面无数行"
   ]
  },
  {
   "cell_type": "markdown",
   "metadata": {},
   "source": [
    "```python\n",
    "while not stop:\n",
    "    send mail()\n",
    "    wait one month\n",
    "```"
   ]
  },
  {
   "cell_type": "markdown",
   "metadata": {},
   "source": [
    "```python\n",
    "print(1)\n",
    "print(2)\n",
    "print(3)\n",
    "print(4)\n",
    "print(5)\n",
    "···\n",
    "print(n)\n",
    "```"
   ]
  },
  {
   "cell_type": "markdown",
   "metadata": {},
   "source": [
    "上面代码用简单的while循环替代"
   ]
  },
  {
   "cell_type": "markdown",
   "metadata": {},
   "source": [
    "```python\n",
    "x = 1\n",
    "while x <= 100:\n",
    "    print(x)\n",
    "    x += 1\n",
    "```"
   ]
  },
  {
   "cell_type": "markdown",
   "metadata": {},
   "source": [
    "- 用while循环获取用户输入"
   ]
  },
  {
   "cell_type": "code",
   "execution_count": 4,
   "metadata": {},
   "outputs": [],
   "source": [
    "name = ''"
   ]
  },
  {
   "cell_type": "code",
   "execution_count": 5,
   "metadata": {},
   "outputs": [
    {
     "name": "stdout",
     "output_type": "stream",
     "text": [
      "Hello, ???.\n"
     ]
    }
   ],
   "source": [
    "while not name:\n",
    "    name = input('What\\'s your name? ')\n",
    "print('Hello, {}.'.format(name))"
   ]
  },
  {
   "cell_type": "markdown",
   "metadata": {},
   "source": [
    "👆如果用户没有输入任何东西，那么循环会一直继续"
   ]
  },
  {
   "cell_type": "markdown",
   "metadata": {},
   "source": [
    "如果用户输入空格呢？"
   ]
  },
  {
   "cell_type": "code",
   "execution_count": 7,
   "metadata": {},
   "outputs": [
    {
     "name": "stdout",
     "output_type": "stream",
     "text": [
      "hello, ???.\n"
     ]
    }
   ],
   "source": [
    "_name = ''\n",
    "while not _name.strip():\n",
    "    _name = input('What\\'s your name? ')\n",
    "print('hello, {}.'.format(_name))"
   ]
  }
 ],
 "metadata": {
  "kernelspec": {
   "display_name": "Python 3.9.13 ('gpu')",
   "language": "python",
   "name": "python3"
  },
  "language_info": {
   "codemirror_mode": {
    "name": "ipython",
    "version": 3
   },
   "file_extension": ".py",
   "mimetype": "text/x-python",
   "name": "python",
   "nbconvert_exporter": "python",
   "pygments_lexer": "ipython3",
   "version": "3.9.13"
  },
  "orig_nbformat": 4,
  "vscode": {
   "interpreter": {
    "hash": "21282cff81bde25532fd2a63c6ae6419dba3e1c17add1e3a4d23a97e8da91ae2"
   }
  }
 },
 "nbformat": 4,
 "nbformat_minor": 2
}
