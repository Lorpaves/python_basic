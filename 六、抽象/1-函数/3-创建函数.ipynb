{
 "cells": [
  {
   "cell_type": "markdown",
   "metadata": {},
   "source": [
    "### 数据库的创建--繁琐的方法"
   ]
  },
  {
   "cell_type": "code",
   "execution_count": 21,
   "metadata": {},
   "outputs": [],
   "source": [
    "stored_data = {}\n",
    "stored_data['first_name'] = {}\n",
    "stored_data['middle_name'] = {}\n",
    "stored_data['last_name'] = {}"
   ]
  },
  {
   "cell_type": "code",
   "execution_count": 22,
   "metadata": {},
   "outputs": [],
   "source": [
    "Magnus = 'Magnus Lie Hetland'"
   ]
  },
  {
   "cell_type": "code",
   "execution_count": 23,
   "metadata": {},
   "outputs": [],
   "source": [
    "stored_data['first_name']['Magnus'] = [Magnus]\n",
    "stored_data['middle_name']['Lie'] = [Magnus]\n",
    "stored_data['last_name']['Hetland'] = [Magnus]"
   ]
  },
  {
   "cell_type": "code",
   "execution_count": 24,
   "metadata": {},
   "outputs": [
    {
     "data": {
      "text/plain": [
       "{'first_name': {'Magnus': ['Magnus Lie Hetland']},\n",
       " 'middle_name': {'Lie': ['Magnus Lie Hetland']},\n",
       " 'last_name': {'Hetland': ['Magnus Lie Hetland']}}"
      ]
     },
     "execution_count": 24,
     "metadata": {},
     "output_type": "execute_result"
    }
   ],
   "source": [
    "stored_data"
   ]
  },
  {
   "cell_type": "code",
   "execution_count": 26,
   "metadata": {},
   "outputs": [],
   "source": [
    "stored_data['middle_name'].get('M')"
   ]
  },
  {
   "cell_type": "code",
   "execution_count": 12,
   "metadata": {},
   "outputs": [],
   "source": [
    "sister = 'Anne Lie Hetland'\n",
    "stored_data['first_name'].setdefault('Anne', []).append(sister)\n",
    "stored_data['middle_name'].setdefault('Lie', []).append(sister)\n",
    "stored_data['last_name'].setdefault('Hetland', []).append(sister)"
   ]
  },
  {
   "cell_type": "code",
   "execution_count": 13,
   "metadata": {},
   "outputs": [
    {
     "data": {
      "text/plain": [
       "{'first_name': {'Magnus': ['Magnus Lie Hetland'],\n",
       "  'Anne': ['Anne Lie Hetland']},\n",
       " 'middle_name': {'Lie': ['Magnus Lie Hetland', 'Anne Lie Hetland']},\n",
       " 'last_name': {'Hetland': ['Magnus Lie Hetland', 'Anne Lie Hetland']}}"
      ]
     },
     "execution_count": 13,
     "metadata": {},
     "output_type": "execute_result"
    }
   ],
   "source": [
    "stored_data"
   ]
  },
  {
   "cell_type": "code",
   "execution_count": 14,
   "metadata": {},
   "outputs": [
    {
     "data": {
      "text/plain": [
       "['Anne Lie Hetland']"
      ]
     },
     "execution_count": 14,
     "metadata": {},
     "output_type": "execute_result"
    }
   ],
   "source": [
    "stored_data['first_name']['Anne']"
   ]
  },
  {
   "cell_type": "code",
   "execution_count": 16,
   "metadata": {},
   "outputs": [
    {
     "data": {
      "text/plain": [
       "['Magnus Lie Hetland', 'Anne Lie Hetland']"
      ]
     },
     "execution_count": 16,
     "metadata": {},
     "output_type": "execute_result"
    }
   ],
   "source": [
    "stored_data['middle_name']['Lie']"
   ]
  },
  {
   "cell_type": "markdown",
   "metadata": {},
   "source": [
    "**如果要储存大量的数据，在上面例子中如果要储存大量的不同的姓名，则会变得非常繁琐**\n",
    "\n",
    "**所以避免出现大量重复的语句，可以先将数据库的初始化的功能定义在一个函数里**"
   ]
  },
  {
   "cell_type": "code",
   "execution_count": 17,
   "metadata": {},
   "outputs": [],
   "source": [
    "def init(data):\n",
    "    data['first_name'] = {}\n",
    "    data['middle_name'] = {}\n",
    "    data['last_name'] = {}"
   ]
  },
  {
   "cell_type": "code",
   "execution_count": 18,
   "metadata": {},
   "outputs": [],
   "source": [
    "stored_data = {}\n",
    "init(stored_data)"
   ]
  },
  {
   "cell_type": "code",
   "execution_count": 19,
   "metadata": {},
   "outputs": [
    {
     "data": {
      "text/plain": [
       "{'first_name': {}, 'middle_name': {}, 'last_name': {}}"
      ]
     },
     "execution_count": 19,
     "metadata": {},
     "output_type": "execute_result"
    }
   ],
   "source": [
    "stored_data"
   ]
  },
  {
   "cell_type": "markdown",
   "metadata": {},
   "source": [
    "**现在可以编写存储人员姓名的函数**"
   ]
  },
  {
   "cell_type": "code",
   "execution_count": 27,
   "metadata": {},
   "outputs": [],
   "source": [
    "# {'first_name': {'Magnus': ['Magnus Lie Hetland'],\n",
    "#   'Anne': ['Anne Lie Hetland']},\n",
    "#  'middle_name': {'Lie': ['Magnus Lie Hetland', 'Anne Lie Hetland']},\n",
    "#  'last_name': {'Hetland': ['Magnus Lie Hetland', 'Anne Lie Hetland']}}\n",
    "\n",
    "def search_name(data, label, name):\n",
    "    return data[label].get(name)    #寻找字典data中label键值（储存名字的列表）的name，如果有，则返回name，没有，则什么都不返回\n",
    "                                    #注意：这个get()只能用在字典中的列表，实际上的列表没有get()\n",
    "\n",
    "def store(data, full_name):\n",
    "    names = full_name.split()   #将全名按空格分开\n",
    "    if len(names) == 2: #如果全名没有中间名\n",
    "        names.insert(1, '') #用空储存在字典middle_name中\n",
    "    labels = 'first_name', 'middle_name', 'last_name'\n",
    "\n",
    "    for label, name in zip(labels, names):  #对 label数列和name数列组成的新数列[(label1, name1), (label2, name2), ...]迭代\n",
    "        person = search_name(data, label, name) # 逐一搜索data(储存数据的字典)中的first_name, middle_name, last_name \n",
    "        if person:  #如果names的first_name或middle_name或last_name在data(储存数据的字典)中出现过\n",
    "            person.append(full_name) \n",
    "        else:   #如果person的名字的first_name或middle_name或last_name在data(储存数据的字典)中没有出现过\n",
    "            data[label][name] = [full_name]"
   ]
  },
  {
   "cell_type": "markdown",
   "metadata": {},
   "source": [
    "**上面函数做了以下事情：**\n",
    "- 接受储存数据的字典data和需要添加的姓名full_name，然后将姓名full_name分隔开\n",
    "- 然后判断名字的长度是否为2，如果长度为2（没有中间名），则将中间名''插入到全名中间\n",
    "- 创建一个labels变量，储存每个标签，包含first_name, middle_name, last_name\n",
    "- 使用函数zip()将标签和对应的名字合并，进行如下操作\n",
    "\n",
    "    - 获取属于该标签和对应名字的列表\n",
    "    - 将full_name添加到该列表末尾，如果没有对应的名字，则插入一个新列表"
   ]
  },
  {
   "cell_type": "markdown",
   "metadata": {},
   "source": [
    "**下面是运用**"
   ]
  },
  {
   "cell_type": "code",
   "execution_count": 28,
   "metadata": {},
   "outputs": [],
   "source": [
    "stored_data = {}"
   ]
  },
  {
   "cell_type": "code",
   "execution_count": 29,
   "metadata": {},
   "outputs": [],
   "source": [
    "init(stored_data)"
   ]
  },
  {
   "cell_type": "code",
   "execution_count": 30,
   "metadata": {},
   "outputs": [],
   "source": [
    "store(stored_data, 'Magnus Lie Hetland')"
   ]
  },
  {
   "cell_type": "code",
   "execution_count": 31,
   "metadata": {},
   "outputs": [
    {
     "data": {
      "text/plain": [
       "{'first_name': {'Magnus': ['Magnus Lie Hetland']},\n",
       " 'middle_name': {'Lie': ['Magnus Lie Hetland']},\n",
       " 'last_name': {'Hetland': ['Magnus Lie Hetland']}}"
      ]
     },
     "execution_count": 31,
     "metadata": {},
     "output_type": "execute_result"
    }
   ],
   "source": [
    "stored_data"
   ]
  },
  {
   "cell_type": "code",
   "execution_count": 33,
   "metadata": {},
   "outputs": [],
   "source": [
    "search_name(stored_data, 'middle_name', ' ')"
   ]
  },
  {
   "cell_type": "code",
   "execution_count": 34,
   "metadata": {},
   "outputs": [
    {
     "data": {
      "text/plain": [
       "['Magnus Lie Hetland']"
      ]
     },
     "execution_count": 34,
     "metadata": {},
     "output_type": "execute_result"
    }
   ],
   "source": [
    "search_name(stored_data, 'middle_name', 'Lie')"
   ]
  },
  {
   "cell_type": "code",
   "execution_count": 35,
   "metadata": {},
   "outputs": [],
   "source": [
    "store(stored_data, 'Robin Hood')"
   ]
  },
  {
   "cell_type": "code",
   "execution_count": 36,
   "metadata": {},
   "outputs": [
    {
     "data": {
      "text/plain": [
       "['Robin Hood']"
      ]
     },
     "execution_count": 36,
     "metadata": {},
     "output_type": "execute_result"
    }
   ],
   "source": [
    "search_name(stored_data, 'last_name', 'Hood')"
   ]
  },
  {
   "cell_type": "code",
   "execution_count": 37,
   "metadata": {},
   "outputs": [],
   "source": [
    "store(stored_data, 'Mr. Gumby')"
   ]
  },
  {
   "cell_type": "code",
   "execution_count": 38,
   "metadata": {},
   "outputs": [
    {
     "data": {
      "text/plain": [
       "['Robin Hood', 'Mr. Gumby']"
      ]
     },
     "execution_count": 38,
     "metadata": {},
     "output_type": "execute_result"
    }
   ],
   "source": [
    "search_name(stored_data, 'middle_name', '')"
   ]
  }
 ],
 "metadata": {
  "kernelspec": {
   "display_name": "Python 3.9.13 ('gpu')",
   "language": "python",
   "name": "python3"
  },
  "language_info": {
   "codemirror_mode": {
    "name": "ipython",
    "version": 3
   },
   "file_extension": ".py",
   "mimetype": "text/x-python",
   "name": "python",
   "nbconvert_exporter": "python",
   "pygments_lexer": "ipython3",
   "version": "3.9.13"
  },
  "orig_nbformat": 4,
  "vscode": {
   "interpreter": {
    "hash": "21282cff81bde25532fd2a63c6ae6419dba3e1c17add1e3a4d23a97e8da91ae2"
   }
  }
 },
 "nbformat": 4,
 "nbformat_minor": 2
}
