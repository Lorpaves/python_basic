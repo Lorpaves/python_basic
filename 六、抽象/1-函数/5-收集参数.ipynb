{
 "cells": [
  {
   "cell_type": "markdown",
   "metadata": {},
   "source": [
    "**有时候，允许用户提供任意数量的参数很有用。但是如何允许向函数中传递任意数量参数**"
   ]
  },
  {
   "cell_type": "markdown",
   "metadata": {},
   "source": [
    "```python\n",
    "如果 store(data, name1, name2, name3 , ...) 可以传递任意数量的名字就好了\n",
    "```"
   ]
  },
  {
   "cell_type": "code",
   "execution_count": 1,
   "metadata": {},
   "outputs": [],
   "source": [
    "def print_params(*params):\n",
    "    print(params)"
   ]
  },
  {
   "cell_type": "code",
   "execution_count": 2,
   "metadata": {},
   "outputs": [
    {
     "name": "stdout",
     "output_type": "stream",
     "text": [
      "('Testing',)\n"
     ]
    }
   ],
   "source": [
    "print_params('Testing')"
   ]
  },
  {
   "cell_type": "code",
   "execution_count": 3,
   "metadata": {},
   "outputs": [
    {
     "name": "stdout",
     "output_type": "stream",
     "text": [
      "(1, 2, 3, 4, '...')\n"
     ]
    }
   ],
   "source": [
    "print_params(1, 2, 3, 4, '...')"
   ]
  },
  {
   "cell_type": "markdown",
   "metadata": {},
   "source": [
    "params前面带*星号时，python将把星号前面逗号开始后面的所有变量储存起来，储存到一个元组里"
   ]
  },
  {
   "cell_type": "code",
   "execution_count": 6,
   "metadata": {},
   "outputs": [],
   "source": [
    "def print_params_2(title, *params):\n",
    "    print(title)\n",
    "    print(params)"
   ]
  },
  {
   "cell_type": "code",
   "execution_count": 7,
   "metadata": {},
   "outputs": [
    {
     "name": "stdout",
     "output_type": "stream",
     "text": [
      "Params:\n",
      "(1, 2, 3)\n"
     ]
    }
   ],
   "source": [
    "print_params_2('Params:', 1, 2, 3)"
   ]
  },
  {
   "cell_type": "code",
   "execution_count": 9,
   "metadata": {},
   "outputs": [
    {
     "name": "stdout",
     "output_type": "stream",
     "text": [
      "Nothing:\n",
      "()\n"
     ]
    }
   ],
   "source": [
    "print_params_2('Nothing:')  # *params 可以接受空的传递，当没有向params传递参数时，则它为一个空的元组"
   ]
  },
  {
   "cell_type": "markdown",
   "metadata": {},
   "source": [
    "与函数非星号参数赋值一样，带星号的参数也可以放在其他位置（不是最后的位置），但不同的是，这种情况下赋值需要做调整"
   ]
  },
  {
   "cell_type": "code",
   "execution_count": 10,
   "metadata": {},
   "outputs": [],
   "source": [
    "def in_the_middle(x, *y, z):\n",
    "    print(x, y, z)"
   ]
  },
  {
   "cell_type": "code",
   "execution_count": 11,
   "metadata": {},
   "outputs": [
    {
     "name": "stdout",
     "output_type": "stream",
     "text": [
      "1 (2, 3, 4, 5) 9\n"
     ]
    }
   ],
   "source": [
    "in_the_middle(1, 2, 3, 4, 5, z = 9)"
   ]
  },
  {
   "cell_type": "code",
   "execution_count": 12,
   "metadata": {},
   "outputs": [
    {
     "ename": "TypeError",
     "evalue": "in_the_middle() missing 1 required keyword-only argument: 'z'",
     "output_type": "error",
     "traceback": [
      "\u001b[1;31m---------------------------------------------------------------------------\u001b[0m",
      "\u001b[1;31mTypeError\u001b[0m                                 Traceback (most recent call last)",
      "Cell \u001b[1;32mIn [12], line 1\u001b[0m\n\u001b[1;32m----> 1\u001b[0m in_the_middle(\u001b[39m1\u001b[39m, \u001b[39m2\u001b[39m, \u001b[39m3\u001b[39m, \u001b[39m4\u001b[39m, \u001b[39m5\u001b[39m, \u001b[39m6\u001b[39m, \u001b[39m9\u001b[39m)\n",
      "\u001b[1;31mTypeError\u001b[0m: in_the_middle() missing 1 required keyword-only argument: 'z'"
     ]
    }
   ],
   "source": [
    "in_the_middle(1, 2, 3, 4, 5, 6, 9)"
   ]
  },
  {
   "cell_type": "markdown",
   "metadata": {},
   "source": [
    "单个星号的变量不会收集关键字的参数"
   ]
  },
  {
   "cell_type": "code",
   "execution_count": 13,
   "metadata": {},
   "outputs": [
    {
     "ename": "TypeError",
     "evalue": "print_params_2() got an unexpected keyword argument 'something'",
     "output_type": "error",
     "traceback": [
      "\u001b[1;31m---------------------------------------------------------------------------\u001b[0m",
      "\u001b[1;31mTypeError\u001b[0m                                 Traceback (most recent call last)",
      "Cell \u001b[1;32mIn [13], line 1\u001b[0m\n\u001b[1;32m----> 1\u001b[0m print_params_2(\u001b[39m'\u001b[39m\u001b[39mWrong!!!\u001b[39m\u001b[39m'\u001b[39m, something \u001b[39m=\u001b[39m \u001b[39m'\u001b[39m\u001b[39mwrong\u001b[39m\u001b[39m'\u001b[39m)\n",
      "\u001b[1;31mTypeError\u001b[0m: print_params_2() got an unexpected keyword argument 'something'"
     ]
    }
   ],
   "source": [
    "print_params_2('Wrong!!!', something = 'wrong')"
   ]
  },
  {
   "cell_type": "markdown",
   "metadata": {},
   "source": [
    "要收集关键字的参数，需要使用两个星号**"
   ]
  },
  {
   "cell_type": "code",
   "execution_count": 14,
   "metadata": {},
   "outputs": [],
   "source": [
    "def print_params_3(**params):\n",
    "    print(params)"
   ]
  },
  {
   "cell_type": "code",
   "execution_count": 15,
   "metadata": {},
   "outputs": [
    {
     "name": "stdout",
     "output_type": "stream",
     "text": [
      "{'x': 1, 'y': 2, 'z': 3}\n"
     ]
    }
   ],
   "source": [
    "print_params_3(x = 1, y = 2, z = 3) #返回字典"
   ]
  },
  {
   "cell_type": "markdown",
   "metadata": {},
   "source": [
    "下面将结合三种收集参数的方法"
   ]
  },
  {
   "cell_type": "code",
   "execution_count": 16,
   "metadata": {},
   "outputs": [],
   "source": [
    "def print_params_(x, y, z = 3, *params1, **params2):\n",
    "    print(x, y, z)\n",
    "    print(params1)\n",
    "    print(params2)"
   ]
  },
  {
   "cell_type": "code",
   "execution_count": 18,
   "metadata": {},
   "outputs": [
    {
     "name": "stdout",
     "output_type": "stream",
     "text": [
      "1 2 3\n",
      "(10, 100)\n",
      "{'foo': 1, 'bar': 2}\n"
     ]
    }
   ],
   "source": [
    "print_params_( 1,  2,  3, 10, 100,  foo = 1, bar = 2)"
   ]
  },
  {
   "cell_type": "markdown",
   "metadata": {},
   "source": [
    "现在将收集多个参数的方法运用到第三节创建函数的函数中"
   ]
  },
  {
   "cell_type": "code",
   "execution_count": 33,
   "metadata": {},
   "outputs": [],
   "source": [
    "def init(*data):\n",
    "    data = {}\n",
    "    data['first_name'] = {}\n",
    "    data['middle_name'] = {}\n",
    "    data['last_name'] = {}\n",
    "    return data"
   ]
  },
  {
   "cell_type": "code",
   "execution_count": 34,
   "metadata": {},
   "outputs": [],
   "source": [
    "def search_name(data, label, name):\n",
    "    return data[label].get(name)"
   ]
  },
  {
   "cell_type": "code",
   "execution_count": 40,
   "metadata": {},
   "outputs": [],
   "source": [
    "def store_data(data, *full_names):\n",
    "    for full_name in full_names:\n",
    "        names = full_name.split()\n",
    "        if len(names) == 2: names.insert(1, '')\n",
    "        labels = 'first_name', 'middle_name', 'last_name'\n",
    "        for label, name in zip(labels, names):\n",
    "            searched_name = search_name(data, label, name)\n",
    "            if searched_name:\n",
    "                searched_name.append(full_name)\n",
    "            else: data[label][name] = [full_name]"
   ]
  },
  {
   "cell_type": "code",
   "execution_count": 41,
   "metadata": {},
   "outputs": [],
   "source": [
    "stored_data = {}\n",
    "stored_data = init(stored_data)"
   ]
  },
  {
   "cell_type": "code",
   "execution_count": 42,
   "metadata": {},
   "outputs": [
    {
     "data": {
      "text/plain": [
       "{'first_name': {}, 'middle_name': {}, 'last_name': {}}"
      ]
     },
     "execution_count": 42,
     "metadata": {},
     "output_type": "execute_result"
    }
   ],
   "source": [
    "stored_data"
   ]
  },
  {
   "cell_type": "code",
   "execution_count": 43,
   "metadata": {},
   "outputs": [],
   "source": [
    "store_data(stored_data, 'Luck Skywalker', 'Anakin Skywalker')"
   ]
  },
  {
   "cell_type": "code",
   "execution_count": 44,
   "metadata": {},
   "outputs": [
    {
     "data": {
      "text/plain": [
       "{'first_name': {'Luck': ['Luck Skywalker'], 'Anakin': ['Anakin Skywalker']},\n",
       " 'middle_name': {'': ['Luck Skywalker', 'Anakin Skywalker']},\n",
       " 'last_name': {'Skywalker': ['Luck Skywalker', 'Anakin Skywalker']}}"
      ]
     },
     "execution_count": 44,
     "metadata": {},
     "output_type": "execute_result"
    }
   ],
   "source": [
    "stored_data"
   ]
  }
 ],
 "metadata": {
  "kernelspec": {
   "display_name": "Python 3.9.13 ('gpu')",
   "language": "python",
   "name": "python3"
  },
  "language_info": {
   "codemirror_mode": {
    "name": "ipython",
    "version": 3
   },
   "file_extension": ".py",
   "mimetype": "text/x-python",
   "name": "python",
   "nbconvert_exporter": "python",
   "pygments_lexer": "ipython3",
   "version": "3.9.13"
  },
  "orig_nbformat": 4,
  "vscode": {
   "interpreter": {
    "hash": "21282cff81bde25532fd2a63c6ae6419dba3e1c17add1e3a4d23a97e8da91ae2"
   }
  }
 },
 "nbformat": 4,
 "nbformat_minor": 2
}
