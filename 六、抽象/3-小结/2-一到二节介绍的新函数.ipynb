{
 "cells": [
  {
   "cell_type": "markdown",
   "metadata": {},
   "source": [
    "```python\n",
    "map(func, seq[, seq, ...])      #对seq序列中所有的元素执行func()函数\n",
    "\n",
    "filter(func, seq)       #返回一个列表，其结果为func()函数对seq所有元素执行的为真的结果\n",
    "\n",
    "reduce(func, seq[, initial])    #等价于func(func)\n",
    "#例如\n",
    "def add(x, y) :            # 两数相加\n",
    "    return x + y\n",
    "sum1 = reduce(add, [1,2,3,4,5])   # 计算列表和：1+2+3+4+5\n",
    "sum2 = reduce(lambda x, y: x+y, [1,2,3,4,5])  # 使用 lambda 匿名函数\n",
    "\n",
    "sum(seq)    #返回seq中所有元素的和\n",
    "\n",
    "apply(func)     #调用函数func，需要传递函数func的参数\n",
    "#例如\n",
    " def function(a,b):  \n",
    "        print(a,b)  \n",
    "apply(function,('good','better'))  \n",
    "apply(function,(2,3+6))  \n",
    "apply(function,('cai','quan'))  \n",
    "apply(function,('cai',),{'b':'caiquan'})  \n",
    "apply(function,(),{'a':'caiquan','b':'Tom'})  \n",
    "```"
   ]
  }
 ],
 "metadata": {
  "kernelspec": {
   "display_name": "Python 3.8.13 ('pytoexe')",
   "language": "python",
   "name": "python3"
  },
  "language_info": {
   "name": "python",
   "version": "3.8.13"
  },
  "orig_nbformat": 4,
  "vscode": {
   "interpreter": {
    "hash": "c2c064cb8a48367d3606d1e2f4439ae3f8745d237f3d1229e375be7f51fcc0da"
   }
  }
 },
 "nbformat": 4,
 "nbformat_minor": 2
}
