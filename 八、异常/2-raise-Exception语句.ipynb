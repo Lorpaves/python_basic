{
 "cells": [
  {
   "cell_type": "markdown",
   "metadata": {},
   "source": [
    "**要引发异常，可以使用raise语句，并将Exception的一个子类或一个实例作为raise参数。**\n",
    "\n",
    "**将类（Exception的一个子类）作为参数时，Python将自动创建一个实例**"
   ]
  },
  {
   "cell_type": "code",
   "execution_count": 1,
   "metadata": {},
   "outputs": [
    {
     "ename": "Exception",
     "evalue": "",
     "output_type": "error",
     "traceback": [
      "\u001b[1;31m---------------------------------------------------------------------------\u001b[0m",
      "\u001b[1;31mException\u001b[0m                                 Traceback (most recent call last)",
      "Cell \u001b[1;32mIn [1], line 1\u001b[0m\n\u001b[1;32m----> 1\u001b[0m \u001b[39mraise\u001b[39;00m \u001b[39mException\u001b[39;00m\n",
      "\u001b[1;31mException\u001b[0m: "
     ]
    }
   ],
   "source": [
    "raise Exception"
   ]
  },
  {
   "cell_type": "code",
   "execution_count": 4,
   "metadata": {},
   "outputs": [
    {
     "ename": "Exception",
     "evalue": "something is wrong",
     "output_type": "error",
     "traceback": [
      "\u001b[1;31m---------------------------------------------------------------------------\u001b[0m",
      "\u001b[1;31mException\u001b[0m                                 Traceback (most recent call last)",
      "Cell \u001b[1;32mIn [4], line 1\u001b[0m\n\u001b[1;32m----> 1\u001b[0m \u001b[39mraise\u001b[39;00m \u001b[39mException\u001b[39;00m(\u001b[39m'\u001b[39m\u001b[39msomething is wrong\u001b[39m\u001b[39m'\u001b[39m)\n",
      "\u001b[1;31mException\u001b[0m: something is wrong"
     ]
    }
   ],
   "source": [
    "raise Exception('something is wrong')   #Exception的参数设置为错误消息"
   ]
  },
  {
   "cell_type": "markdown",
   "metadata": {},
   "source": [
    "```python\n",
    "一些内置的异常类\n",
    "Exception 几乎所有的异常类都是从它派生而来的\n",
    "\n",
    "AttributeError 引用属性或给它赋值失败时引发\n",
    "\n",
    "OSError 操作系统不能执行指定的任务（如打开文件）时引发，有多个子类\n",
    "\n",
    "IndexError 使用序列中不存在的索引时引发，为LookupError的子类\n",
    "\n",
    "KeyError 使用映射中不存在的键时引发，为LookupError的子类\n",
    "\n",
    "NameError 找不到名称（变量）时引发\n",
    "\n",
    "SyntaxError 代码不正确时引发\n",
    "\n",
    "TypeError 将内置操作或函数用于类型不正确的对象时引发\n",
    "\n",
    "ValueError 将内置操作或函数用于这样的对象时引发：其类型正确但包含的值不合适\n",
    "\n",
    "ZeroDivisionError 在除法或求模运算的第二个参数为零时引发\n",
    "```"
   ]
  },
  {
   "cell_type": "markdown",
   "metadata": {},
   "source": [
    "**使用特殊的Exception，新建子类继承Exception**"
   ]
  },
  {
   "cell_type": "code",
   "execution_count": 1,
   "metadata": {},
   "outputs": [],
   "source": [
    "class someCustomException(Exception):\n",
    "    pass"
   ]
  },
  {
   "cell_type": "code",
   "execution_count": 3,
   "metadata": {},
   "outputs": [
    {
     "ename": "someCustomException",
     "evalue": "",
     "output_type": "error",
     "traceback": [
      "\u001b[1;31m---------------------------------------------------------------------------\u001b[0m",
      "\u001b[1;31msomeCustomException\u001b[0m                       Traceback (most recent call last)",
      "Cell \u001b[1;32mIn [3], line 1\u001b[0m\n\u001b[1;32m----> 1\u001b[0m \u001b[39mraise\u001b[39;00m someCustomException\n",
      "\u001b[1;31msomeCustomException\u001b[0m: "
     ]
    }
   ],
   "source": [
    "raise someCustomException"
   ]
  },
  {
   "cell_type": "code",
   "execution_count": 4,
   "metadata": {},
   "outputs": [
    {
     "ename": "someCustomException",
     "evalue": "Something is not right",
     "output_type": "error",
     "traceback": [
      "\u001b[1;31m---------------------------------------------------------------------------\u001b[0m",
      "\u001b[1;31msomeCustomException\u001b[0m                       Traceback (most recent call last)",
      "Cell \u001b[1;32mIn [4], line 1\u001b[0m\n\u001b[1;32m----> 1\u001b[0m \u001b[39mraise\u001b[39;00m someCustomException(\u001b[39m'\u001b[39m\u001b[39mSomething is not right\u001b[39m\u001b[39m'\u001b[39m)\n",
      "\u001b[1;31msomeCustomException\u001b[0m: Something is not right"
     ]
    }
   ],
   "source": [
    "raise someCustomException('Something is not right')"
   ]
  }
 ],
 "metadata": {
  "kernelspec": {
   "display_name": "Python 3.9.13 ('gpu')",
   "language": "python",
   "name": "python3"
  },
  "language_info": {
   "codemirror_mode": {
    "name": "ipython",
    "version": 3
   },
   "file_extension": ".py",
   "mimetype": "text/x-python",
   "name": "python",
   "nbconvert_exporter": "python",
   "pygments_lexer": "ipython3",
   "version": "3.9.13"
  },
  "orig_nbformat": 4,
  "vscode": {
   "interpreter": {
    "hash": "21282cff81bde25532fd2a63c6ae6419dba3e1c17add1e3a4d23a97e8da91ae2"
   }
  }
 },
 "nbformat": 4,
 "nbformat_minor": 2
}
