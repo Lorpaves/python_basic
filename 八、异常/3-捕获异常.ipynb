{
 "cells": [
  {
   "cell_type": "code",
   "execution_count": 2,
   "metadata": {},
   "outputs": [
    {
     "ename": "ZeroDivisionError",
     "evalue": "division by zero",
     "output_type": "error",
     "traceback": [
      "\u001b[1;31m---------------------------------------------------------------------------\u001b[0m",
      "\u001b[1;31mZeroDivisionError\u001b[0m                         Traceback (most recent call last)",
      "Cell \u001b[1;32mIn [2], line 3\u001b[0m\n\u001b[0;32m      1\u001b[0m x \u001b[39m=\u001b[39m \u001b[39mint\u001b[39m(\u001b[39minput\u001b[39m(\u001b[39m'\u001b[39m\u001b[39mEnter the first number: \u001b[39m\u001b[39m'\u001b[39m))\n\u001b[0;32m      2\u001b[0m y \u001b[39m=\u001b[39m \u001b[39mint\u001b[39m(\u001b[39minput\u001b[39m(\u001b[39m'\u001b[39m\u001b[39mEnter the second number: \u001b[39m\u001b[39m'\u001b[39m))\n\u001b[1;32m----> 3\u001b[0m \u001b[39mprint\u001b[39m(x \u001b[39m/\u001b[39m y)\n",
      "\u001b[1;31mZeroDivisionError\u001b[0m: division by zero"
     ]
    }
   ],
   "source": [
    "x = int(input('Enter the first number: '))\n",
    "y = int(input('Enter the second number: '))\n",
    "print(x / y)"
   ]
  },
  {
   "cell_type": "markdown",
   "metadata": {},
   "source": [
    "上面时python自带的捕获异常，当然我们可以自定义"
   ]
  },
  {
   "cell_type": "code",
   "execution_count": 4,
   "metadata": {},
   "outputs": [
    {
     "name": "stdout",
     "output_type": "stream",
     "text": [
      "The second number can't be zero!!!\n"
     ]
    }
   ],
   "source": [
    "try:\n",
    "    x = int(input('Enter the first number: '))\n",
    "    y = int(input('Enter the second number: '))\n",
    "    print(x / y)\n",
    "except ZeroDivisionError:\n",
    "    print('The second number can\\'t be zero!!!')"
   ]
  },
  {
   "cell_type": "markdown",
   "metadata": {},
   "source": [
    "抑制异常"
   ]
  },
  {
   "cell_type": "code",
   "execution_count": 5,
   "metadata": {},
   "outputs": [],
   "source": [
    "class MuffledCalculator:\n",
    "    muffled = False\n",
    "    def calc(self, expr):\n",
    "        try:\n",
    "            return eval(expr)\n",
    "        except ZeroDivisionError:\n",
    "            if self.muffled:\n",
    "                print('Division by zero is illegal')\n",
    "            else:\n",
    "                raise"
   ]
  },
  {
   "cell_type": "code",
   "execution_count": 6,
   "metadata": {},
   "outputs": [],
   "source": [
    "cal = MuffledCalculator()"
   ]
  },
  {
   "cell_type": "code",
   "execution_count": 7,
   "metadata": {},
   "outputs": [
    {
     "data": {
      "text/plain": [
       "5.0"
      ]
     },
     "execution_count": 7,
     "metadata": {},
     "output_type": "execute_result"
    }
   ],
   "source": [
    "cal.calc('10/ 2')"
   ]
  },
  {
   "cell_type": "code",
   "execution_count": 8,
   "metadata": {},
   "outputs": [
    {
     "ename": "ZeroDivisionError",
     "evalue": "division by zero",
     "output_type": "error",
     "traceback": [
      "\u001b[1;31m---------------------------------------------------------------------------\u001b[0m",
      "\u001b[1;31mZeroDivisionError\u001b[0m                         Traceback (most recent call last)",
      "Cell \u001b[1;32mIn [8], line 1\u001b[0m\n\u001b[1;32m----> 1\u001b[0m cal\u001b[39m.\u001b[39mcalc(\u001b[39m'\u001b[39m\u001b[39m 10/0\u001b[39m\u001b[39m'\u001b[39m)\n",
      "Cell \u001b[1;32mIn [5], line 5\u001b[0m, in \u001b[0;36mMuffledCalculator.calc\u001b[1;34m(self, expr)\u001b[0m\n\u001b[0;32m      3\u001b[0m \u001b[39mdef\u001b[39;00m \u001b[39mcalc\u001b[39m(\u001b[39mself\u001b[39m, expr):\n\u001b[0;32m      4\u001b[0m     \u001b[39mtry\u001b[39;00m:\n\u001b[1;32m----> 5\u001b[0m         \u001b[39mreturn\u001b[39;00m \u001b[39meval\u001b[39;49m(expr)\n\u001b[0;32m      6\u001b[0m     \u001b[39mexcept\u001b[39;00m \u001b[39mZeroDivisionError\u001b[39;00m:\n\u001b[0;32m      7\u001b[0m         \u001b[39mif\u001b[39;00m \u001b[39mself\u001b[39m\u001b[39m.\u001b[39mmuffled:\n",
      "File \u001b[1;32m<string>:1\u001b[0m\n",
      "\u001b[1;31mZeroDivisionError\u001b[0m: division by zero"
     ]
    }
   ],
   "source": [
    "cal.calc(' 10/0')"
   ]
  },
  {
   "cell_type": "code",
   "execution_count": 9,
   "metadata": {},
   "outputs": [
    {
     "name": "stdout",
     "output_type": "stream",
     "text": [
      "Division by zero is illegal\n"
     ]
    }
   ],
   "source": [
    "cal.muffled = True\n",
    "cal.calc('10/0')"
   ]
  },
  {
   "cell_type": "markdown",
   "metadata": {},
   "source": [
    "**多个except捕获不同异常**"
   ]
  },
  {
   "cell_type": "code",
   "execution_count": 14,
   "metadata": {},
   "outputs": [
    {
     "name": "stdout",
     "output_type": "stream",
     "text": [
      "That's not a number.\n"
     ]
    }
   ],
   "source": [
    "try:\n",
    "    x = int(input('Enter the first number: '))\n",
    "    y = int(input('Enter the second number: '))\n",
    "    print(x / y)\n",
    "except ZeroDivisionError:\n",
    "    print('The second number can\\'t be zero!!')\n",
    "except ValueError:\n",
    "    print('That\\'s not a number.')"
   ]
  },
  {
   "cell_type": "code",
   "execution_count": 16,
   "metadata": {},
   "outputs": [
    {
     "name": "stdout",
     "output_type": "stream",
     "text": [
      "Your numbers were bogus ...\n"
     ]
    }
   ],
   "source": [
    "#或者\n",
    "try:\n",
    "    x = int(input('Enter the first number: '))\n",
    "    y = int(input('Enter the second number: '))\n",
    "    print(x / y)\n",
    "except (ZeroDivisionError, ValueError):\n",
    "    print('Your numbers were bogus ...')"
   ]
  },
  {
   "cell_type": "markdown",
   "metadata": {},
   "source": [
    "**捕获对象**"
   ]
  },
  {
   "cell_type": "code",
   "execution_count": 17,
   "metadata": {},
   "outputs": [
    {
     "name": "stdout",
     "output_type": "stream",
     "text": [
      "invalid literal for int() with base 10: 'awfio'\n"
     ]
    }
   ],
   "source": [
    "try:\n",
    "    x = int(input('Enter the first number: '))\n",
    "    y = int(input('Enter the second number: '))\n",
    "    print(x / y)\n",
    "except (ZeroDivisionError, ValueError) as e:\n",
    "    print(e)"
   ]
  },
  {
   "cell_type": "markdown",
   "metadata": {},
   "source": [
    "**一网打尽**"
   ]
  },
  {
   "cell_type": "code",
   "execution_count": 18,
   "metadata": {},
   "outputs": [
    {
     "name": "stdout",
     "output_type": "stream",
     "text": [
      "Something is wrong ...\n"
     ]
    }
   ],
   "source": [
    "try:\n",
    "    x = int(input('Enter the first number: '))\n",
    "    y = int(input('Enter the second number: '))\n",
    "    print(x / y)\n",
    "except:\n",
    "    print('Something is wrong ...')"
   ]
  },
  {
   "cell_type": "markdown",
   "metadata": {},
   "source": [
    "**else在异常处理中的使用**"
   ]
  },
  {
   "cell_type": "code",
   "execution_count": 20,
   "metadata": {},
   "outputs": [
    {
     "name": "stdout",
     "output_type": "stream",
     "text": [
      "first task\n",
      "everything is right\n"
     ]
    }
   ],
   "source": [
    "try:\n",
    "    print('first task')\n",
    "except:\n",
    "    print('something is wrong...')\n",
    "else:\n",
    "    print('everything is right')    #没有发生异常时才会打印"
   ]
  },
  {
   "cell_type": "code",
   "execution_count": 22,
   "metadata": {},
   "outputs": [
    {
     "name": "stdout",
     "output_type": "stream",
     "text": [
      "Something is wrong ...\n",
      "Something is wrong ...\n",
      "10 / 2 = 5.0\n"
     ]
    }
   ],
   "source": [
    "while True:\n",
    "    try:\n",
    "        x = int(input('Enter the first number: '))\n",
    "        y = int(input('Enter the second number: '))\n",
    "        value = x / y\n",
    "        print('{} / {} ='.format(x, y), value)\n",
    "    except:\n",
    "        print('Something is wrong ...')\n",
    "    else:\n",
    "        break"
   ]
  },
  {
   "cell_type": "code",
   "execution_count": 23,
   "metadata": {},
   "outputs": [
    {
     "name": "stdout",
     "output_type": "stream",
     "text": [
      "invalid literal for int() with base 10: 'awfa'\n",
      "Please try again\n",
      "invalid literal for int() with base 10: '覅挖掘'\n",
      "Please try again\n",
      "invalid literal for int() with base 10: 'hi'\n",
      "Please try again\n",
      "division by zero\n",
      "Please try again\n",
      "10 / 2 = 5.0\n"
     ]
    }
   ],
   "source": [
    "#如果想打印出异常\n",
    "while True:\n",
    "    try:\n",
    "        x = int(input('Enter the first number: '))\n",
    "        y = int(input('Enter the second number: '))\n",
    "        value = x / y\n",
    "        print('{} / {} ='.format(x, y), value)\n",
    "    except Exception as e:\n",
    "        print(e)\n",
    "        print('Please try again')\n",
    "    else:\n",
    "        break"
   ]
  },
  {
   "cell_type": "markdown",
   "metadata": {},
   "source": [
    "**try--finally的使用**"
   ]
  },
  {
   "cell_type": "code",
   "execution_count": 25,
   "metadata": {},
   "outputs": [
    {
     "name": "stdout",
     "output_type": "stream",
     "text": [
      "---------cleaning up----------\n"
     ]
    },
    {
     "ename": "ZeroDivisionError",
     "evalue": "division by zero",
     "output_type": "error",
     "traceback": [
      "\u001b[1;31m---------------------------------------------------------------------------\u001b[0m",
      "\u001b[1;31mZeroDivisionError\u001b[0m                         Traceback (most recent call last)",
      "Cell \u001b[1;32mIn [25], line 3\u001b[0m\n\u001b[0;32m      1\u001b[0m x \u001b[39m=\u001b[39m \u001b[39m2\u001b[39m   \u001b[39m#先给x赋值，否则finally将找不到x\u001b[39;00m\n\u001b[0;32m      2\u001b[0m \u001b[39mtry\u001b[39;00m:\n\u001b[1;32m----> 3\u001b[0m     x \u001b[39m=\u001b[39m \u001b[39m1\u001b[39m \u001b[39m/\u001b[39m \u001b[39m0\u001b[39m   \u001b[39m#不管try子句发生什么异常，都将执行finally子句\u001b[39;00m\n\u001b[0;32m      4\u001b[0m \u001b[39mfinally\u001b[39;00m:\n\u001b[0;32m      5\u001b[0m     \u001b[39mprint\u001b[39m(\u001b[39m'\u001b[39m\u001b[39m---------cleaning up----------\u001b[39m\u001b[39m'\u001b[39m)\n",
      "\u001b[1;31mZeroDivisionError\u001b[0m: division by zero"
     ]
    }
   ],
   "source": [
    "x = 2   #先给x赋值，否则finally子句将找不到x\n",
    "try:\n",
    "    x = 1 / 0   #不管try子句发生什么异常，都将执行finally子句\n",
    "finally:\n",
    "    print('---------cleaning up----------')\n",
    "    del x"
   ]
  },
  {
   "cell_type": "code",
   "execution_count": 26,
   "metadata": {},
   "outputs": [
    {
     "name": "stdout",
     "output_type": "stream",
     "text": [
      "---------cleaning up----------\n"
     ]
    },
    {
     "ename": "NameError",
     "evalue": "name 'x' is not defined",
     "output_type": "error",
     "traceback": [
      "\u001b[1;31m---------------------------------------------------------------------------\u001b[0m",
      "\u001b[1;31mZeroDivisionError\u001b[0m                         Traceback (most recent call last)",
      "Cell \u001b[1;32mIn [26], line 2\u001b[0m\n\u001b[0;32m      1\u001b[0m \u001b[39mtry\u001b[39;00m:\n\u001b[1;32m----> 2\u001b[0m     x \u001b[39m=\u001b[39m \u001b[39m1\u001b[39m \u001b[39m/\u001b[39m \u001b[39m0\u001b[39m   \u001b[39m#不管try子句发生什么异常，都将执行finally子句\u001b[39;00m\n\u001b[0;32m      3\u001b[0m \u001b[39mfinally\u001b[39;00m:\n",
      "\u001b[1;31mZeroDivisionError\u001b[0m: division by zero",
      "\nDuring handling of the above exception, another exception occurred:\n",
      "\u001b[1;31mNameError\u001b[0m                                 Traceback (most recent call last)",
      "Cell \u001b[1;32mIn [26], line 5\u001b[0m\n\u001b[0;32m      3\u001b[0m \u001b[39mfinally\u001b[39;00m:\n\u001b[0;32m      4\u001b[0m     \u001b[39mprint\u001b[39m(\u001b[39m'\u001b[39m\u001b[39m---------cleaning up----------\u001b[39m\u001b[39m'\u001b[39m)\n\u001b[1;32m----> 5\u001b[0m     \u001b[39mdel\u001b[39;00m x\n",
      "\u001b[1;31mNameError\u001b[0m: name 'x' is not defined"
     ]
    }
   ],
   "source": [
    "try:\n",
    "    x = 1 / 0   #不管try子句发生什么异常，都将执行finally子句\n",
    "finally:\n",
    "    print('---------cleaning up----------')\n",
    "    del x"
   ]
  },
  {
   "cell_type": "markdown",
   "metadata": {},
   "source": [
    "**结合使用**"
   ]
  },
  {
   "cell_type": "code",
   "execution_count": 1,
   "metadata": {},
   "outputs": [
    {
     "name": "stdout",
     "output_type": "stream",
     "text": [
      "Unknown variable\n",
      "-----Done------\n"
     ]
    }
   ],
   "source": [
    "try:\n",
    "    1 / 0\n",
    "except:\n",
    "    print('Unknown variable')\n",
    "else:\n",
    "    print('All things were fine')\n",
    "finally:\n",
    "    print('-----Done------')"
   ]
  },
  {
   "cell_type": "code",
   "execution_count": 2,
   "metadata": {},
   "outputs": [],
   "source": [
    "def faulty():\n",
    "    raise Exception('Something is wrong')\n",
    "\n",
    "def ignore_exception():\n",
    "    faulty()\n",
    "\n",
    "def handle_exception():\n",
    "    try:\n",
    "        faulty()\n",
    "    except:\n",
    "        print('Exception hanled')"
   ]
  },
  {
   "cell_type": "code",
   "execution_count": 3,
   "metadata": {},
   "outputs": [
    {
     "ename": "Exception",
     "evalue": "Something is wrong",
     "output_type": "error",
     "traceback": [
      "\u001b[1;31m---------------------------------------------------------------------------\u001b[0m",
      "\u001b[1;31mException\u001b[0m                                 Traceback (most recent call last)",
      "Cell \u001b[1;32mIn [3], line 1\u001b[0m\n\u001b[1;32m----> 1\u001b[0m ignore_exception()\n",
      "Cell \u001b[1;32mIn [2], line 5\u001b[0m, in \u001b[0;36mignore_exception\u001b[1;34m()\u001b[0m\n\u001b[0;32m      4\u001b[0m \u001b[39mdef\u001b[39;00m \u001b[39mignore_exception\u001b[39m():\n\u001b[1;32m----> 5\u001b[0m     faulty()\n",
      "Cell \u001b[1;32mIn [2], line 2\u001b[0m, in \u001b[0;36mfaulty\u001b[1;34m()\u001b[0m\n\u001b[0;32m      1\u001b[0m \u001b[39mdef\u001b[39;00m \u001b[39mfaulty\u001b[39m():\n\u001b[1;32m----> 2\u001b[0m     \u001b[39mraise\u001b[39;00m \u001b[39mException\u001b[39;00m(\u001b[39m'\u001b[39m\u001b[39mSomething is wrong\u001b[39m\u001b[39m'\u001b[39m)\n",
      "\u001b[1;31mException\u001b[0m: Something is wrong"
     ]
    }
   ],
   "source": [
    "ignore_exception()"
   ]
  },
  {
   "cell_type": "code",
   "execution_count": 4,
   "metadata": {},
   "outputs": [
    {
     "name": "stdout",
     "output_type": "stream",
     "text": [
      "Exception hanled\n"
     ]
    }
   ],
   "source": [
    "handle_exception()"
   ]
  },
  {
   "cell_type": "code",
   "execution_count": 6,
   "metadata": {},
   "outputs": [],
   "source": [
    "def describe_person(person):\n",
    "    print('Description of', person['name'])\n",
    "    print('Age:',person['age'])\n",
    "    if 'occupation' in person:\n",
    "        print('occupation:', person['occupation'])"
   ]
  },
  {
   "cell_type": "code",
   "execution_count": 7,
   "metadata": {},
   "outputs": [],
   "source": [
    "person = {'name': 'Throatwobbler  Mangrove', 'age': 42}"
   ]
  },
  {
   "cell_type": "code",
   "execution_count": 8,
   "metadata": {},
   "outputs": [
    {
     "name": "stdout",
     "output_type": "stream",
     "text": [
      "Description of Throatwobbler  Mangrove\n",
      "Age: 42\n"
     ]
    }
   ],
   "source": [
    "describe_person(person)"
   ]
  },
  {
   "cell_type": "code",
   "execution_count": 11,
   "metadata": {},
   "outputs": [],
   "source": [
    "#利用try来更高效地执行\n",
    "def describe_person(person):\n",
    "    print('Description of', person['name'])\n",
    "    print('Age:',person['age'])\n",
    "    try:\n",
    "        print('occupation:', person['occupation'])\n",
    "    except KeyError:\n",
    "        pass"
   ]
  },
  {
   "cell_type": "code",
   "execution_count": 12,
   "metadata": {},
   "outputs": [
    {
     "name": "stdout",
     "output_type": "stream",
     "text": [
      "Description of Throatwobbler  Mangrove\n",
      "Age: 42\n"
     ]
    }
   ],
   "source": [
    "describe_person(person)"
   ]
  },
  {
   "cell_type": "code",
   "execution_count": 13,
   "metadata": {},
   "outputs": [
    {
     "name": "stdout",
     "output_type": "stream",
     "text": [
      "The object is not writeable\n"
     ]
    }
   ],
   "source": [
    "class csA:\n",
    "    pass\n",
    "obj = csA()\n",
    "try:\n",
    "    obj.write\n",
    "except AttributeError:\n",
    "    print('The object is not writeable')\n",
    "else:\n",
    "    print('The object is writeable')"
   ]
  },
  {
   "cell_type": "markdown",
   "metadata": {},
   "source": [
    "如果只想发出警告，指出情况偏离了正规，可以使用模块warnings中的warns"
   ]
  },
  {
   "cell_type": "code",
   "execution_count": 14,
   "metadata": {},
   "outputs": [],
   "source": [
    "from warnings import warn"
   ]
  },
  {
   "cell_type": "code",
   "execution_count": 15,
   "metadata": {},
   "outputs": [
    {
     "name": "stderr",
     "output_type": "stream",
     "text": [
      "C:\\Users\\Administrator\\AppData\\Local\\Temp\\ipykernel_3684\\3039569077.py:1: UserWarning: This is not a good condition\n",
      "  warn('This is not a good condition')\n"
     ]
    }
   ],
   "source": [
    "warn('This is not a good condition')"
   ]
  },
  {
   "cell_type": "code",
   "execution_count": 16,
   "metadata": {},
   "outputs": [],
   "source": [
    "from warnings import filterwarnings\n",
    "\n",
    "filterwarnings('ignore')"
   ]
  },
  {
   "cell_type": "code",
   "execution_count": 18,
   "metadata": {},
   "outputs": [],
   "source": [
    "filterwarnings('error')"
   ]
  },
  {
   "cell_type": "code",
   "execution_count": 19,
   "metadata": {},
   "outputs": [
    {
     "ename": "UserWarning",
     "evalue": "This is just a warning",
     "output_type": "error",
     "traceback": [
      "\u001b[1;31m---------------------------------------------------------------------------\u001b[0m",
      "\u001b[1;31mUserWarning\u001b[0m                               Traceback (most recent call last)",
      "Cell \u001b[1;32mIn [19], line 1\u001b[0m\n\u001b[1;32m----> 1\u001b[0m warn(\u001b[39m'\u001b[39m\u001b[39mThis is just a warning\u001b[39m\u001b[39m'\u001b[39m)\n",
      "\u001b[1;31mUserWarning\u001b[0m: This is just a warning"
     ]
    }
   ],
   "source": [
    "warn('This is just a warning')"
   ]
  }
 ],
 "metadata": {
  "kernelspec": {
   "display_name": "Python 3.9.13 ('gpu')",
   "language": "python",
   "name": "python3"
  },
  "language_info": {
   "codemirror_mode": {
    "name": "ipython",
    "version": 3
   },
   "file_extension": ".py",
   "mimetype": "text/x-python",
   "name": "python",
   "nbconvert_exporter": "python",
   "pygments_lexer": "ipython3",
   "version": "3.9.13"
  },
  "orig_nbformat": 4,
  "vscode": {
   "interpreter": {
    "hash": "21282cff81bde25532fd2a63c6ae6419dba3e1c17add1e3a4d23a97e8da91ae2"
   }
  }
 },
 "nbformat": 4,
 "nbformat_minor": 2
}
