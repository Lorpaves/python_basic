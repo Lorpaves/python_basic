{
 "cells": [
  {
   "cell_type": "markdown",
   "metadata": {},
   "source": [
    "#### 1. 映射"
   ]
  },
  {
   "cell_type": "markdown",
   "metadata": {},
   "source": [
    "通过对键对字典索引获得键值，python内置的唯一一种映射类型就是字典"
   ]
  },
  {
   "cell_type": "markdown",
   "metadata": {},
   "source": [
    "#### 2. 将字符串格式设置功能用于字典"
   ]
  },
  {
   "cell_type": "markdown",
   "metadata": {},
   "source": [
    "要对字典进行字符串格式设置的操作，不能用format()和命名参数，而必须使用format_map()"
   ]
  },
  {
   "cell_type": "markdown",
   "metadata": {},
   "source": [
    "#### 3. 字典方法"
   ]
  },
  {
   "cell_type": "markdown",
   "metadata": {},
   "source": [
    "字典内置的方法和字符串的方法大多相同。"
   ]
  }
 ],
 "metadata": {
  "kernelspec": {
   "display_name": "Python 3.8.13 ('ml')",
   "language": "python",
   "name": "python3"
  },
  "language_info": {
   "name": "python",
   "version": "3.8.13"
  },
  "orig_nbformat": 4,
  "vscode": {
   "interpreter": {
    "hash": "42d1cbe14ad87217f6fc689922545ce4cc4d7d3925d370a4e6ea08e02cc2c971"
   }
  }
 },
 "nbformat": 4,
 "nbformat_minor": 2
}
