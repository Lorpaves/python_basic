{
 "cells": [
  {
   "cell_type": "code",
   "execution_count": 2,
   "metadata": {},
   "outputs": [],
   "source": [
    "names = ['name1', 'name2', 'name3', 'name4', 'name5']\n",
    "numbers = [1111, 2222, 3333, 4444, 5555]"
   ]
  },
  {
   "cell_type": "code",
   "execution_count": 4,
   "metadata": {},
   "outputs": [
    {
     "data": {
      "text/plain": [
       "1111"
      ]
     },
     "execution_count": 4,
     "metadata": {},
     "output_type": "execute_result"
    }
   ],
   "source": [
    "numbers[names.index('name1')]"
   ]
  },
  {
   "cell_type": "code",
   "execution_count": 5,
   "metadata": {},
   "outputs": [],
   "source": [
    "#上面通过获得名字的索引值来获得对应的号码的方法太麻烦了，而且在面对大量的数据时容易出错，万一numbers里的值不小心变得不一样了\n",
    "# 那么通过索引获得的号码也会错误；对这些数据处理也会非常麻烦"
   ]
  },
  {
   "cell_type": "markdown",
   "metadata": {},
   "source": [
    "如果要创建一个容器，既能储存每个人名字，还能储存每个人电话号码，而且能一一对应，这时候需要用到Python中的字典(Dict)\n",
    "\n",
    "- 字典由键及其相应的值组成，这种键-值的对称为项（item）"
   ]
  },
  {
   "cell_type": "code",
   "execution_count": 8,
   "metadata": {},
   "outputs": [],
   "source": [
    "phonebook = {\n",
    "    'name1': '1111',\n",
    "    'name2': '2222',\n",
    "    'name3': '3333',\n",
    "    'name4': '4444',\n",
    "    'name5': '5555'\n",
    "}"
   ]
  },
  {
   "cell_type": "code",
   "execution_count": 9,
   "metadata": {},
   "outputs": [
    {
     "data": {
      "text/plain": [
       "{'name1': '1111',\n",
       " 'name2': '2222',\n",
       " 'name3': '3333',\n",
       " 'name4': '4444',\n",
       " 'name5': '5555'}"
      ]
     },
     "execution_count": 9,
     "metadata": {},
     "output_type": "execute_result"
    }
   ],
   "source": [
    "phonebook"
   ]
  },
  {
   "cell_type": "code",
   "execution_count": 22,
   "metadata": {},
   "outputs": [
    {
     "data": {
      "text/plain": [
       "{'person': 'name1', 'number': 1111}"
      ]
     },
     "execution_count": 22,
     "metadata": {},
     "output_type": "execute_result"
    }
   ],
   "source": [
    "#也可以这样创\n",
    "name = ('person', 'name1')\n",
    "number = ('number', 1111)\n",
    "data = [name, number]\n",
    "dict(data)"
   ]
  },
  {
   "cell_type": "code",
   "execution_count": 23,
   "metadata": {},
   "outputs": [
    {
     "data": {
      "text/plain": [
       "{'person': 'name1', 'number': 1111}"
      ]
     },
     "execution_count": 23,
     "metadata": {},
     "output_type": "execute_result"
    }
   ],
   "source": [
    "#另一种方法\n",
    "dict(person='name1',number=1111)"
   ]
  },
  {
   "cell_type": "code",
   "execution_count": 21,
   "metadata": {},
   "outputs": [
    {
     "data": {
      "text/plain": [
       "{'name1': 'name2', 1111: 2222}"
      ]
     },
     "execution_count": 21,
     "metadata": {},
     "output_type": "execute_result"
    }
   ],
   "source": []
  },
  {
   "cell_type": "code",
   "execution_count": null,
   "metadata": {},
   "outputs": [],
   "source": []
  }
 ],
 "metadata": {
  "kernelspec": {
   "display_name": "Python 3.8.13 ('ml')",
   "language": "python",
   "name": "python3"
  },
  "language_info": {
   "codemirror_mode": {
    "name": "ipython",
    "version": 3
   },
   "file_extension": ".py",
   "mimetype": "text/x-python",
   "name": "python",
   "nbconvert_exporter": "python",
   "pygments_lexer": "ipython3",
   "version": "3.8.13"
  },
  "orig_nbformat": 4,
  "vscode": {
   "interpreter": {
    "hash": "42d1cbe14ad87217f6fc689922545ce4cc4d7d3925d370a4e6ea08e02cc2c971"
   }
  }
 },
 "nbformat": 4,
 "nbformat_minor": 2
}
