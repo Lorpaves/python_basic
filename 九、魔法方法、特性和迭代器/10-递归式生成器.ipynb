{
 "cells": [
  {
   "cell_type": "markdown",
   "metadata": {},
   "source": [
    "**前一节设计的生成器只能处理两层嵌套列表，使用两个for循环来实现。如果要处理任意层的列表。需要用到递归**"
   ]
  },
  {
   "cell_type": "code",
   "execution_count": 7,
   "metadata": {},
   "outputs": [],
   "source": [
    "def flatten(nested_sequence):\n",
    "    try:    \n",
    "        try: nested_sequence + ''   #判断要处理的序列中是否是字符串 比如说seq = 'string'\n",
    "        except TypeError: pass  #如果不是字符串，不管它，继续\n",
    "        else: raise TypeError   #如果是，引发类型异常\n",
    "    \n",
    "        for sublist in nested_sequence:\n",
    "            for element in flatten(sublist):\n",
    "                yield element\n",
    "    \n",
    "    except TypeError:\n",
    "        yield nested_sequence"
   ]
  },
  {
   "cell_type": "code",
   "execution_count": 5,
   "metadata": {},
   "outputs": [
    {
     "data": {
      "text/plain": [
       "['aiowjfi', 'a', 'b', '323fa', 'wad', 'awfaf']"
      ]
     },
     "execution_count": 5,
     "metadata": {},
     "output_type": "execute_result"
    }
   ],
   "source": [
    "list(flatten(['aiowjfi',['a','b'],[['323fa','wad'],['awfaf']]]))"
   ]
  },
  {
   "cell_type": "code",
   "execution_count": 6,
   "metadata": {},
   "outputs": [
    {
     "data": {
      "text/plain": [
       "['fawidjaiw']"
      ]
     },
     "execution_count": 6,
     "metadata": {},
     "output_type": "execute_result"
    }
   ],
   "source": [
    "list(flatten('fawidjaiw'))"
   ]
  },
  {
   "cell_type": "code",
   "execution_count": 8,
   "metadata": {},
   "outputs": [],
   "source": [
    "def flatten1(nested_sequence):\n",
    "    try:    \n",
    "        # try: nested_sequence + ''   #判断要处理的序列中是否是字符串 比如说seq = 'string'\n",
    "        # except TypeError: pass  #如果不是字符串，不管它，继续\n",
    "        # else: raise TypeError   #如果是，引发类型异常\n",
    "    \n",
    "        for sublist in nested_sequence:\n",
    "            for element in flatten(sublist):\n",
    "                yield element\n",
    "    \n",
    "    except TypeError:\n",
    "        yield nested_sequence"
   ]
  },
  {
   "cell_type": "code",
   "execution_count": 9,
   "metadata": {},
   "outputs": [
    {
     "data": {
      "text/plain": [
       "['f', 'a', 'w', 'i', 'd', 'j', 'a', 'i', 'w']"
      ]
     },
     "execution_count": 9,
     "metadata": {},
     "output_type": "execute_result"
    }
   ],
   "source": [
    "list(flatten1('fawidjaiw'))"
   ]
  },
  {
   "cell_type": "code",
   "execution_count": null,
   "metadata": {},
   "outputs": [],
   "source": []
  }
 ],
 "metadata": {
  "kernelspec": {
   "display_name": "Python 3.9.13 ('gpu')",
   "language": "python",
   "name": "python3"
  },
  "language_info": {
   "codemirror_mode": {
    "name": "ipython",
    "version": 3
   },
   "file_extension": ".py",
   "mimetype": "text/x-python",
   "name": "python",
   "nbconvert_exporter": "python",
   "pygments_lexer": "ipython3",
   "version": "3.9.13"
  },
  "orig_nbformat": 4,
  "vscode": {
   "interpreter": {
    "hash": "21282cff81bde25532fd2a63c6ae6419dba3e1c17add1e3a4d23a97e8da91ae2"
   }
  }
 },
 "nbformat": 4,
 "nbformat_minor": 2
}
