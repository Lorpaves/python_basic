{
 "cells": [
  {
   "cell_type": "markdown",
   "metadata": {},
   "source": [
    "```python\n",
    "iter(obj)   #从可迭代对象obj创建一个迭代器\n",
    "\n",
    "next(it)    #让迭代器it前进一步并返回下一个元素\n",
    "\n",
    "property(get_func, set_func, del_func, doc) #返回一个属于类的属性\n",
    "\n",
    "super(class, obj)   #返回一个超类class的obj实例\n",
    "```"
   ]
  }
 ],
 "metadata": {
  "kernelspec": {
   "display_name": "Python 3.9.13 ('gpu')",
   "language": "python",
   "name": "python3"
  },
  "language_info": {
   "name": "python",
   "version": "3.9.13"
  },
  "orig_nbformat": 4,
  "vscode": {
   "interpreter": {
    "hash": "21282cff81bde25532fd2a63c6ae6419dba3e1c17add1e3a4d23a97e8da91ae2"
   }
  }
 },
 "nbformat": 4,
 "nbformat_minor": 2
}
