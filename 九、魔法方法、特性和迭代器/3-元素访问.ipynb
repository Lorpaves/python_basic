{
 "cells": [
  {
   "cell_type": "code",
   "execution_count": 1,
   "metadata": {},
   "outputs": [],
   "source": [
    "def check_index(key):\n",
    "    \"\"\" \n",
    "    指定的键是否是可以索引的？\n",
    "\n",
    "    键必须是非负整数，才能进行索引。\n",
    "    如果不是整数：将引发TypeError\n",
    "    如果是负数：将引发IndexError（因为这个序列的长度是无穷的）\n",
    "    \"\"\"\n",
    "    if not isinstance(key, int): raise TypeError\n",
    "    if key < 0: raise IndexError"
   ]
  },
  {
   "cell_type": "code",
   "execution_count": 3,
   "metadata": {},
   "outputs": [],
   "source": [
    "class ArithmeticSequence:\n",
    "    \"\"\" \n",
    "    构造等无穷的差数列类 A(n) = a1 + (n-1)*d \n",
    "    首项为a1，n为公差\n",
    "    等差数列的百度百科：https://baike.baidu.com/item/%E7%AD%89%E5%B7%AE%E6%95%B0%E5%88%97/1129192?fr=aladdin\n",
    "    \"\"\"\n",
    "    def __init__(self, start = 0, step = 1):\n",
    "        \"\"\" \n",
    "        start:序列中第一个元素，即a1\n",
    "        step为公差d\n",
    "        默认为 A(n) =  0 + (n-1)*1 = n - 1\n",
    "        \"\"\"\n",
    "        self.start = start  #储存起始值\n",
    "        self.step = step    #储存公差d\n",
    "        self.changed = {}   #储存修改过的数值，默认是a[0] = 1, a[1] = 2,\n",
    "    #__getitem__(key)返回object[key] ，在这个例子中返回objecr[key] = self.changed[key]//self.start + key * self.step\n",
    "    def __getitem__(self, key):\n",
    "        \"\"\" \n",
    "        从数列（也叫算术序列）中通过索引值获取一个元素\n",
    "        \"\"\"\n",
    "        check_index(key)    #确保索引有效\n",
    "        try: return self.changed[key]   #判断是否修改过key的值，如果修改过，则输出key的值\n",
    "        except KeyError:    #如果没有修改过，返回等差数列中第n-1（key）的值\n",
    "            return self.start + key * self.step     #返回0 + key*step，也是等差数列A(n) = n - 1，其中n = key + 1\n",
    "    #__setitem__(key, value)在这个例子中将objecr[key] ==>  value\n",
    "    def __setitem__(self, key, value):\n",
    "        \"\"\"\n",
    "        修改等差数列中第n(key+1)个数的值\n",
    "        \"\"\"\n",
    "        check_index(key)\n",
    "        self.changed[key] = value\n",
    "\n",
    "    \"\"\" \n",
    "    def __delitem__(self, key):\n",
    "        check_index()\n",
    "    由于是个无穷的等差数列，即n取无穷且为正数，所以即使删除了key，也会重新生成key\n",
    "    \"\"\""
   ]
  },
  {
   "cell_type": "code",
   "execution_count": 4,
   "metadata": {},
   "outputs": [],
   "source": [
    "an = ArithmeticSequence(1,2)"
   ]
  },
  {
   "cell_type": "code",
   "execution_count": 5,
   "metadata": {},
   "outputs": [
    {
     "data": {
      "text/plain": [
       "201"
      ]
     },
     "execution_count": 5,
     "metadata": {},
     "output_type": "execute_result"
    }
   ],
   "source": [
    "an[100]"
   ]
  },
  {
   "cell_type": "code",
   "execution_count": 6,
   "metadata": {},
   "outputs": [
    {
     "data": {
      "text/plain": [
       "1"
      ]
     },
     "execution_count": 6,
     "metadata": {},
     "output_type": "execute_result"
    }
   ],
   "source": [
    "an[0]"
   ]
  },
  {
   "cell_type": "code",
   "execution_count": 8,
   "metadata": {},
   "outputs": [
    {
     "ename": "TypeError",
     "evalue": "object of type 'ArithmeticSequence' has no len()",
     "output_type": "error",
     "traceback": [
      "\u001b[1;31m---------------------------------------------------------------------------\u001b[0m",
      "\u001b[1;31mTypeError\u001b[0m                                 Traceback (most recent call last)",
      "Cell \u001b[1;32mIn [8], line 1\u001b[0m\n\u001b[1;32m----> 1\u001b[0m \u001b[39mlen\u001b[39m(an)\n",
      "\u001b[1;31mTypeError\u001b[0m: object of type 'ArithmeticSequence' has no len()"
     ]
    }
   ],
   "source": [
    "len(an)#类中没有定义__len__"
   ]
  },
  {
   "cell_type": "code",
   "execution_count": 9,
   "metadata": {},
   "outputs": [
    {
     "ename": "AttributeError",
     "evalue": "__delitem__",
     "output_type": "error",
     "traceback": [
      "\u001b[1;31m---------------------------------------------------------------------------\u001b[0m",
      "\u001b[1;31mAttributeError\u001b[0m                            Traceback (most recent call last)",
      "Cell \u001b[1;32mIn [9], line 1\u001b[0m\n\u001b[1;32m----> 1\u001b[0m \u001b[39mdel\u001b[39;00m an[\u001b[39m1\u001b[39m]\n",
      "\u001b[1;31mAttributeError\u001b[0m: __delitem__"
     ]
    }
   ],
   "source": [
    "del an[1]"
   ]
  },
  {
   "cell_type": "code",
   "execution_count": 11,
   "metadata": {},
   "outputs": [
    {
     "data": {
      "text/plain": [
       "200001"
      ]
     },
     "execution_count": 11,
     "metadata": {},
     "output_type": "execute_result"
    }
   ],
   "source": [
    "an[100000]"
   ]
  },
  {
   "cell_type": "code",
   "execution_count": 12,
   "metadata": {},
   "outputs": [
    {
     "data": {
      "text/plain": [
       "397"
      ]
     },
     "execution_count": 12,
     "metadata": {},
     "output_type": "execute_result"
    }
   ],
   "source": [
    "an[198]"
   ]
  }
 ],
 "metadata": {
  "kernelspec": {
   "display_name": "Python 3.9.13 ('gpu')",
   "language": "python",
   "name": "python3"
  },
  "language_info": {
   "codemirror_mode": {
    "name": "ipython",
    "version": 3
   },
   "file_extension": ".py",
   "mimetype": "text/x-python",
   "name": "python",
   "nbconvert_exporter": "python",
   "pygments_lexer": "ipython3",
   "version": "3.9.13"
  },
  "orig_nbformat": 4,
  "vscode": {
   "interpreter": {
    "hash": "21282cff81bde25532fd2a63c6ae6419dba3e1c17add1e3a4d23a97e8da91ae2"
   }
  }
 },
 "nbformat": 4,
 "nbformat_minor": 2
}
