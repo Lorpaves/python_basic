{
 "cells": [
  {
   "cell_type": "markdown",
   "metadata": {},
   "source": [
    "#### **魔法方法**"
   ]
  },
  {
   "cell_type": "markdown",
   "metadata": {},
   "source": [
    "Python中有很多特殊方法，用两个下划线开头和结尾。\n",
    "\n",
    "比如\n",
    "\n",
    "```python\n",
    "__init__ :      构造函数，在生成对象时调用\n",
    "__del__ :       析构函数，释放对象时使用\n",
    "__repr__ :      打印，转换\n",
    "__setitem__ :   按照索引赋值\n",
    "__getitem__:    按照索引获取值\n",
    "__len__:        获得长度\n",
    "__cmp__:        比较运算\n",
    "__call__:       调用\n",
    "__add__:        加运算\n",
    "__sub__:        减运算\n",
    "__mul__:        乘运算\n",
    "__div__:        除运算\n",
    "__mod__:        求余运算\n",
    "__pow__:        幂\n",
    "```"
   ]
  },
  {
   "cell_type": "markdown",
   "metadata": {},
   "source": [
    "#### **重写**"
   ]
  },
  {
   "cell_type": "markdown",
   "metadata": {},
   "source": [
    "类可以重写其超类中定义的方法或属性。可以使用supper().__init__()来初始化超类的属性（类的继承只继承类的方法）。"
   ]
  },
  {
   "cell_type": "markdown",
   "metadata": {},
   "source": [
    "#### **序列和映射**"
   ]
  },
  {
   "cell_type": "markdown",
   "metadata": {},
   "source": [
    "要创建自定义的序列或映射，必须实现序列和映射协议指定的所有方法，其中包括__getitem__和__setitem__等魔法方法。\n",
    "\n",
    "也可以从list和dict继承，减少工作量"
   ]
  },
  {
   "cell_type": "markdown",
   "metadata": {},
   "source": [
    "#### **迭代器**"
   ]
  },
  {
   "cell_type": "markdown",
   "metadata": {},
   "source": [
    "迭代器是包含方法__next__（next()）的对象，可用于迭代序列。没有更多的值可供迭代时，__next__会引发StopIteration异常。\n",
    "\n",
    "可迭代对象包含方法__iter__，它返回一个像序列一样可用于for循环中的迭代器。通常迭代器（iter()或__iter__）也可以迭代"
   ]
  },
  {
   "cell_type": "markdown",
   "metadata": {},
   "source": [
    "#### **生成器**"
   ]
  },
  {
   "cell_type": "markdown",
   "metadata": {},
   "source": [
    "生成器的函数是包含关键词yield的函数，函数被调用时返回一个生成器（一种特殊的迭代器）。可以使用send、throw、close来控制生成器"
   ]
  }
 ],
 "metadata": {
  "kernelspec": {
   "display_name": "Python 3.9.13 ('gpu')",
   "language": "python",
   "name": "python3"
  },
  "language_info": {
   "name": "python",
   "version": "3.9.13"
  },
  "orig_nbformat": 4,
  "vscode": {
   "interpreter": {
    "hash": "21282cff81bde25532fd2a63c6ae6419dba3e1c17add1e3a4d23a97e8da91ae2"
   }
  }
 },
 "nbformat": 4,
 "nbformat_minor": 2
}
