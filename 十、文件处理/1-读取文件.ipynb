{
 "cells": [
  {
   "cell_type": "code",
   "execution_count": 4,
   "metadata": {},
   "outputs": [
    {
     "name": "stdout",
     "output_type": "stream",
     "text": [
      "pi value :\n",
      "3.141592653589793238462643383279\n",
      "\n",
      "\n"
     ]
    }
   ],
   "source": [
    "with open('pi.txt') as f:\n",
    "    contents = f.read()\n",
    "    print(contents)"
   ]
  },
  {
   "cell_type": "code",
   "execution_count": 5,
   "metadata": {},
   "outputs": [
    {
     "name": "stdout",
     "output_type": "stream",
     "text": [
      "pi value :\n",
      "3.141592653589793238462643383279\n"
     ]
    }
   ],
   "source": [
    "with open('pi.txt') as f:\n",
    "    contents = f.read()\n",
    "    print(contents.strip())"
   ]
  },
  {
   "cell_type": "code",
   "execution_count": 6,
   "metadata": {},
   "outputs": [
    {
     "name": "stdout",
     "output_type": "stream",
     "text": [
      "<class '_io.TextIOWrapper'>\n",
      "pi value :\n",
      "3.141592653589793238462643383279\n",
      "\n"
     ]
    }
   ],
   "source": [
    "#逐行读取\n",
    "file_path = 'pi.txt'\n",
    "with open(file_path) as f:\n",
    "    print(type(f))\n",
    "    for line in f:\n",
    "        print(line.strip())\n",
    "        #print(type(line))"
   ]
  },
  {
   "cell_type": "code",
   "execution_count": 7,
   "metadata": {},
   "outputs": [
    {
     "name": "stdout",
     "output_type": "stream",
     "text": [
      "<class 'str'>\n",
      "pi value :\n",
      "3.141592653589793238462643383279\n"
     ]
    }
   ],
   "source": [
    "with open(file_path) as f:\n",
    "    contents = f.read()\n",
    "    results = []\n",
    "    print(type(contents))\n",
    "    for char in contents:\n",
    "        results.append(char)\n",
    "    print(''.join(results[:-2]))"
   ]
  }
 ],
 "metadata": {
  "kernelspec": {
   "display_name": "Python 3.9.13 ('gpu')",
   "language": "python",
   "name": "python3"
  },
  "language_info": {
   "codemirror_mode": {
    "name": "ipython",
    "version": 3
   },
   "file_extension": ".py",
   "mimetype": "text/x-python",
   "name": "python",
   "nbconvert_exporter": "python",
   "pygments_lexer": "ipython3",
   "version": "3.9.13"
  },
  "orig_nbformat": 4,
  "vscode": {
   "interpreter": {
    "hash": "21282cff81bde25532fd2a63c6ae6419dba3e1c17add1e3a4d23a97e8da91ae2"
   }
  }
 },
 "nbformat": 4,
 "nbformat_minor": 2
}
