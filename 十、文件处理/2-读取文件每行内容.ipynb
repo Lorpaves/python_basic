{
 "cells": [
  {
   "cell_type": "code",
   "execution_count": 6,
   "metadata": {},
   "outputs": [
    {
     "name": "stdout",
     "output_type": "stream",
     "text": [
      "['pi value :\\n', '3.141592653589793238462643383279\\n', '\\n']\n"
     ]
    }
   ],
   "source": [
    "file_path = 'pi.txt'\n",
    "with open(file_path) as f:\n",
    "    lines = f.readlines()\n",
    "    print(lines)"
   ]
  },
  {
   "cell_type": "code",
   "execution_count": 7,
   "metadata": {},
   "outputs": [
    {
     "name": "stdout",
     "output_type": "stream",
     "text": [
      "pi value :\n",
      "\n",
      "3.141592653589793238462643383279\n",
      "\n",
      "\n",
      "\n"
     ]
    }
   ],
   "source": [
    "for line in lines:\n",
    "    print(line)"
   ]
  },
  {
   "cell_type": "markdown",
   "metadata": {},
   "source": [
    "上面会存在空格，用strip()"
   ]
  },
  {
   "cell_type": "code",
   "execution_count": 11,
   "metadata": {},
   "outputs": [
    {
     "name": "stdout",
     "output_type": "stream",
     "text": [
      "pi value :\n",
      "3.141592653589793238462643383279\n",
      "\n"
     ]
    }
   ],
   "source": [
    "for line in lines:\n",
    "    print(line.strip())"
   ]
  },
  {
   "cell_type": "markdown",
   "metadata": {},
   "source": [
    "如果文件末尾有空格，需要查找字符串序列中的\\n，然后删除"
   ]
  },
  {
   "cell_type": "code",
   "execution_count": 35,
   "metadata": {},
   "outputs": [
    {
     "name": "stdout",
     "output_type": "stream",
     "text": [
      "pi value :3.141592653589793238462643383279\n",
      "pi value :3.141592653589793238462643383279\n",
      "pi value :\n",
      "3.141592653589793238462643383279\n"
     ]
    }
   ],
   "source": [
    "#第一种 ==> 删除所有换行符\n",
    "with open(file_path) as f:\n",
    "    contents = f.read()\n",
    "    result = []\n",
    "    for char in contents:\n",
    "        if char != '\\n':\n",
    "            result.append(char)\n",
    "    print(''.join(result))\n",
    "\n",
    "#第二种 ==> 删除所有换行符\n",
    "with open(file_path) as f:\n",
    "    contents = f.read()\n",
    "    result = ''\n",
    "    for char in contents:\n",
    "        if char != '\\n':\n",
    "            result += char\n",
    "    print(result)\n",
    "\n",
    "#第三种 ==> 这种方法只检查最后是否有空行，如果有则删除\n",
    "with open(file_path) as f:\n",
    "    contents = f.read()\n",
    "    result = []\n",
    "    for char in contents:\n",
    "        result.append(char)\n",
    "    while True:\n",
    "        if result[-1] != '\\n':\n",
    "            break\n",
    "        else:\n",
    "            del result[-1]\n",
    "    print(''.join(result))"
   ]
  },
  {
   "cell_type": "code",
   "execution_count": 13,
   "metadata": {},
   "outputs": [
    {
     "data": {
      "text/plain": [
       "'pi value :3.141592653589793238462643383279'"
      ]
     },
     "execution_count": 13,
     "metadata": {},
     "output_type": "execute_result"
    }
   ],
   "source": [
    "''.join(result)"
   ]
  },
  {
   "cell_type": "markdown",
   "metadata": {},
   "source": [
    "用readlines()的方法删除行"
   ]
  },
  {
   "cell_type": "code",
   "execution_count": 41,
   "metadata": {},
   "outputs": [
    {
     "name": "stdout",
     "output_type": "stream",
     "text": [
      "pi value :3.141592653589793238462643383279\n",
      "pi value :3.141592653589793238462643383279\n",
      "pi value :\n",
      "3.141592653589793238462643383279\n"
     ]
    }
   ],
   "source": [
    "#第一种，去掉所有换行符\n",
    "with open(file_path) as f:\n",
    "    contents = f.readlines()\n",
    "    result = []\n",
    "    for line in contents:\n",
    "        #print(line.strip())\n",
    "        result.append(line.strip())\n",
    "    print(''.join(result))\n",
    "\n",
    "#第二种，去掉所有换行符\n",
    "with open(file_path) as f:\n",
    "    contents = f.readlines()\n",
    "    result = ''\n",
    "    for line in contents:\n",
    "        #print(line.strip())\n",
    "        result += line.strip()\n",
    "    print(result)\n",
    "\n",
    "#第三种，去掉最后的空行\n",
    "with open(file_path) as f:\n",
    "    contents = f.readlines()\n",
    "    while True:\n",
    "        if contents[-1] != '\\n':\n",
    "            break\n",
    "        else:\n",
    "            del contents[-1]\n",
    "    for line in contents:\n",
    "        print(line.strip())"
   ]
  },
  {
   "cell_type": "code",
   "execution_count": 22,
   "metadata": {},
   "outputs": [
    {
     "name": "stdout",
     "output_type": "stream",
     "text": [
      "w\n",
      "a\n",
      "d\n",
      "a\n",
      "w\n",
      "d\n",
      "a\n",
      "w\n",
      "3\n",
      "r\n",
      "\n",
      "\n"
     ]
    }
   ],
   "source": [
    "#测试代码\n",
    "\n",
    "a = 'wadawdaw3r\\n'\n",
    "for c in a:\n",
    "    #print(a.index(c))\n",
    "    print(c)"
   ]
  },
  {
   "cell_type": "code",
   "execution_count": null,
   "metadata": {},
   "outputs": [],
   "source": []
  }
 ],
 "metadata": {
  "kernelspec": {
   "display_name": "Python 3.9.13 ('gpu')",
   "language": "python",
   "name": "python3"
  },
  "language_info": {
   "codemirror_mode": {
    "name": "ipython",
    "version": 3
   },
   "file_extension": ".py",
   "mimetype": "text/x-python",
   "name": "python",
   "nbconvert_exporter": "python",
   "pygments_lexer": "ipython3",
   "version": "3.9.13"
  },
  "orig_nbformat": 4,
  "vscode": {
   "interpreter": {
    "hash": "21282cff81bde25532fd2a63c6ae6419dba3e1c17add1e3a4d23a97e8da91ae2"
   }
  }
 },
 "nbformat": 4,
 "nbformat_minor": 2
}
