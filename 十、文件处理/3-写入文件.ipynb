{
 "cells": [
  {
   "cell_type": "code",
   "execution_count": 8,
   "metadata": {},
   "outputs": [],
   "source": [
    "file_path = 'write.txt'"
   ]
  },
  {
   "cell_type": "code",
   "execution_count": 9,
   "metadata": {},
   "outputs": [],
   "source": [
    "with open(file_path, 'w') as f:\n",
    "    f.write('Hello, World!')"
   ]
  },
  {
   "cell_type": "code",
   "execution_count": 10,
   "metadata": {},
   "outputs": [
    {
     "name": "stdout",
     "output_type": "stream",
     "text": [
      "Hello, World!\n"
     ]
    }
   ],
   "source": [
    "with open(file_path) as f:\n",
    "    print(f.read())"
   ]
  },
  {
   "cell_type": "markdown",
   "metadata": {},
   "source": [
    "```python\n",
    "r\t只读\t默认模式，如果文件不存在就报错，存在就正常读取。\n",
    "w\t只写\t如果文件不存在，新建文件然后写入；如果存在，先清空文件内容，再写入。\n",
    "a\t追加\t如果文件不存在，新建文件，然后写入；如果存在，在文件的最后追加写入。\n",
    "x\t新建\t如果文件存在则报错，如果不存在就新建文件，然后写入内容，比w模式更安全。\n",
    "b\t二进制模式\t比如rb、wb、ab，以bytes类型操作数据\n",
    "+\t读写模式\t比如r+、w+、a+\n",
    "```"
   ]
  },
  {
   "cell_type": "code",
   "execution_count": 11,
   "metadata": {},
   "outputs": [],
   "source": [
    "#写入多行\n",
    "with open(file_path, 'w') as f:\n",
    "    for i in range(3):\n",
    "        f.write('\\nHello, i am the {} line'.format(i+1))"
   ]
  },
  {
   "cell_type": "code",
   "execution_count": 12,
   "metadata": {},
   "outputs": [
    {
     "name": "stdout",
     "output_type": "stream",
     "text": [
      "Hello, i am the 1 line\n",
      "Hello, i am the 2 line\n",
      "Hello, i am the 3 line\n"
     ]
    }
   ],
   "source": [
    "with open(file_path) as f:\n",
    "    print(f.read().strip())"
   ]
  },
  {
   "cell_type": "code",
   "execution_count": 13,
   "metadata": {},
   "outputs": [],
   "source": [
    "#a模式写入（续写）\n",
    "with open(file_path, 'a') as f:\n",
    "    for i in range(3):\n",
    "        f.write('\\nHello, i am the {} line'.format(i+3))    #i从0开始，记住！！！！"
   ]
  },
  {
   "cell_type": "code",
   "execution_count": 14,
   "metadata": {},
   "outputs": [
    {
     "name": "stdout",
     "output_type": "stream",
     "text": [
      "Hello, i am the 1 line\n",
      "Hello, i am the 2 line\n",
      "Hello, i am the 3 line\n",
      "Hello, i am the 3 line\n",
      "Hello, i am the 4 line\n",
      "Hello, i am the 5 line\n"
     ]
    }
   ],
   "source": [
    "with open(file_path, 'r') as f:\n",
    "    print(f.read().strip())"
   ]
  },
  {
   "cell_type": "code",
   "execution_count": 15,
   "metadata": {},
   "outputs": [],
   "source": [
    "#ab模式，写入二进制数据\n",
    "s = '\\nHello, i am the 7 line'\n",
    "b = bytes(s, encoding='utf-8')\n",
    "with open(file_path, 'ab') as f:\n",
    "    f.write(b)"
   ]
  },
  {
   "cell_type": "code",
   "execution_count": 16,
   "metadata": {},
   "outputs": [
    {
     "name": "stdout",
     "output_type": "stream",
     "text": [
      "Hello, i am the 1 line\n",
      "Hello, i am the 2 line\n",
      "Hello, i am the 3 line\n",
      "Hello, i am the 3 line\n",
      "Hello, i am the 4 line\n",
      "Hello, i am the 5 line\n",
      "Hello, i am the 7 line\n"
     ]
    }
   ],
   "source": [
    "with open(file_path, 'r') as f:\n",
    "    print(f.read().strip())"
   ]
  },
  {
   "cell_type": "code",
   "execution_count": 23,
   "metadata": {},
   "outputs": [],
   "source": [
    "#wb+模式，新建文件并写入二进制数据\n",
    "bts = bytes('Hello, World!',encoding='utf-8')    #python的默认编码为utf-8\n",
    "with open('bytes.txt', 'wb+') as f:\n",
    "    f.write(bts)"
   ]
  },
  {
   "cell_type": "code",
   "execution_count": 24,
   "metadata": {},
   "outputs": [
    {
     "name": "stdout",
     "output_type": "stream",
     "text": [
      "Hello, World!\n"
     ]
    }
   ],
   "source": [
    "with open('bytes.txt', 'r') as f:\n",
    "    print(f.read().strip())"
   ]
  }
 ],
 "metadata": {
  "kernelspec": {
   "display_name": "Python 3.9.13 ('gpu')",
   "language": "python",
   "name": "python3"
  },
  "language_info": {
   "codemirror_mode": {
    "name": "ipython",
    "version": 3
   },
   "file_extension": ".py",
   "mimetype": "text/x-python",
   "name": "python",
   "nbconvert_exporter": "python",
   "pygments_lexer": "ipython3",
   "version": "3.9.13"
  },
  "orig_nbformat": 4,
  "vscode": {
   "interpreter": {
    "hash": "21282cff81bde25532fd2a63c6ae6419dba3e1c17add1e3a4d23a97e8da91ae2"
   }
  }
 },
 "nbformat": 4,
 "nbformat_minor": 2
}
